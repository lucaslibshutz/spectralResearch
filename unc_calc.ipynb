{
 "cells": [
  {
   "cell_type": "code",
   "execution_count": 47,
   "metadata": {},
   "outputs": [],
   "source": [
    "import numpy as np\n",
    "import pandas as pd\n",
    "import matplotlib.pyplot as plt\n",
    "from matplotlib.pyplot import figure\n",
    "import matplotlib.transforms as mtransforms\n",
    "from scipy.optimize import curve_fit\n",
    "from scipy.signal import find_peaks\n",
    "from itertools import chain\n",
    "from sys import platform\n",
    "from copy import deepcopy as dc\n",
    "from scipy.interpolate import interp1d\n",
    "from astropy.time import Time\n",
    "\n",
    "vims_wave = np.loadtxt('vims_wave.txt')\n",
    "\n",
    "new_array = ['_0405','_0607','_0809','_1011','_1213','_1415','_1617']\n",
    "if platform == 'darwin' or platform == 'win32' or platform == 'linux':\n",
    "    for number in new_array:\n",
    "        new_string = 'df'+number+' = pd.read_pickle(\"total_data/data'+number+'.pkl\")'\n",
    "        exec(new_string)\n",
    "else:\n",
    "    df_list = []\n",
    "    for number in new_array:\n",
    "        new_string = 'df'+number+' = pd.read_csv(\"total_data/data'+number+'.csv\")'\n",
    "        exec(new_string)\n",
    "        df_list.append(locals()['df'+number])\n",
    "    for df in df_list:\n",
    "        for i in range(len(df['spectrum'])):\n",
    "            df['spectrum'][i] = np.array([float(x) for x in df['spectrum'][i][1:-1].split(',')])\n",
    "\n",
    "vims_list = []\n",
    "for i in range(4,18):\n",
    "    if i<10:\n",
    "        exec('vims_200'+str(i)+' = np.load(\"vims_shift/vims_200'+str(i)+'.npy\")')\n",
    "        vims_list.append(locals()['vims_200'+str(i)])\n",
    "    else:\n",
    "        exec('vims_20'+str(i)+' = np.load(\"vims_shift/vims_20'+str(i)+'.npy\")')\n",
    "        vims_list.append(locals()['vims_20'+str(i)])\n",
    "\n",
    "def powerlaw(x,a,b):\n",
    "    return a*np.power(x,b)\n",
    "\n",
    "def gaussian(x,a,mu,sigma):\n",
    "    return a*np.exp(-(x-mu)**2/(2*sigma**2))\n",
    "\n",
    "def flatten(some_list):\n",
    "    flat_list = []\n",
    "    for element in some_list:\n",
    "        if type(element) is list or type(element) is tuple:\n",
    "            for item in element:\n",
    "                flat_list.append(item)\n",
    "        else:\n",
    "            flat_list.append(element)\n",
    "    return flat_list\n",
    "\n",
    "band_channels = list(chain(range(29,35),range(46,60),range(78,96),range(102,106)))\n",
    "\n",
    "window = list(range(56,83))\n",
    "\n",
    "def fit_line(dataframe):\n",
    "    spectra = np.average(dataframe)\n",
    "    my_fit,_ = curve_fit(powerlaw,vims_wave[band_channels],spectra[band_channels],p0=[.15,-12])\n",
    "    final_fit = powerlaw(vims_wave,*my_fit)\n",
    "    return final_fit\n",
    "\n",
    "def custom_fit(dataframe):\n",
    "    spectra = np.average(dataframe)\n",
    "    my_fit,_ = curve_fit(powerlaw,vims_wave[band_channels],spectra[band_channels],p0=[.15,-12])\n",
    "    final_spectra = spectra-powerlaw(vims_wave,*my_fit)\n",
    "    return final_spectra\n",
    "\n",
    "def single_fit(spectrum):\n",
    "    my_fit,_ = curve_fit(powerlaw,vims_wave[band_channels],spectrum[band_channels],p0=[.15,-12])\n",
    "    final_spectrum = spectrum-powerlaw(vims_wave,*my_fit)\n",
    "    return final_spectrum\n",
    "\n",
    "def shift_ret(spectrum):\n",
    "    my_fit,_ = curve_fit(gaussian,vims_wave[window],spectrum[window],p0=[.05,2.05])\n",
    "    return my_fit[1]\n",
    "\n",
    "\n",
    "scatter_list = []\n",
    "for number in new_array:\n",
    "    scatter_list.append(locals()['df'+number])\n",
    "\n",
    "airmass_data = pd.concat(scatter_list,ignore_index=True)\n",
    "\n",
    "airmass_data['emission'] *= (np.pi)/180\n",
    "airmass_data['incidence'] *= (np.pi)/180\n",
    "\n",
    "all_spectra = []\n",
    "for i in range(len(airmass_data['spectrum'])):\n",
    "    all_spectra.append(airmass_data['spectrum'][i])\n",
    "all_spectra = np.asarray(np.abs(all_spectra))\n",
    "\n",
    "filter1 = dc(all_spectra)\n",
    "filter2 = dc(all_spectra)\n",
    "filter3 = dc(all_spectra)\n",
    "\n",
    "bad_ind = np.where(filter1[:,69]<=.001)\n",
    "filter1 = np.delete(filter1,bad_ind,axis=0)\n",
    "\n",
    "p25 = np.percentile(filter2[:,69],25)\n",
    "p75 = np.percentile(filter2[:,69],75)\n",
    "inds = np.where((filter2[:,69] <= p25) | (filter2[:,69] >= p75))\n",
    "filter2 = np.delete(filter2,inds,axis=0)\n",
    "\n",
    "# flag data that isn't in the range of mean and 3Sigma - PERL will solve the problem of the amount of data being retrieved\n",
    "for i in range(256):\n",
    "    filtered = False\n",
    "    k = 0\n",
    "    while filtered == False:\n",
    "        mean_1 = np.mean(filter3[:,i])\n",
    "        median = np.median(filter3[:,i])\n",
    "        std = np.std(filter3[:,i])\n",
    "        vals = filter3[:,i]\n",
    "        ind = np.where(np.abs(vals-mean_1)>=3*std)\n",
    "        filter3[ind,i] = mean_1+(3*std)\n",
    "        mean_2 = np.mean(filter3[:,i])\n",
    "        k += 1\n",
    "        if np.abs(mean_1-mean_2) <= .05*mean_1:\n",
    "            filtered = True\n",
    "\n",
    "emission_vals = np.asarray(airmass_data['emission'])\n",
    "incidence_vals = np.asarray(airmass_data['incidence'])\n",
    "start_vals = np.asarray(airmass_data['starttime'])\n",
    "\n",
    "channels = [\n",
    "(9,20,37,65,107),\n",
    "(12,24,43,70,115),\n",
    "(16,27,47,76,118)\n",
    "]\n",
    "\n",
    "k_vals = [1.14,1.29,1.60,1.50,1.15]\n",
    "\n",
    "channels = np.asarray(channels)\n",
    "\n",
    "correction1 = dc(filter3)\n",
    "correction2 = dc(filter3)\n",
    "correction3 = dc(filter3)\n",
    "\n",
    "\n",
    "aref = np.average(correction1[0,band_channels])\n",
    "cor = (aref/(np.average(correction1[:,band_channels],axis=1))) # correction factor\n",
    "correction1 *= cor[:,None]\n",
    "\n",
    "correction2 /= np.cos(incidence_vals)[:,None]\n",
    "\n",
    "for i in range(5):\n",
    "    width = 1\n",
    "    cor = ((k_vals[i]/2)*(correction3[:,channels[0,i]]+correction3[:,channels[2,i]]))\n",
    "    correction3[:,channels[0,i]+width:channels[2,i]-width] -= cor[:,None]\n",
    "\n",
    "shift_dates = [\n",
    "'2004-01-01T00:00:00.00',\n",
    "'2005-01-01T00:00:00.00',\n",
    "'2005-07-01T00:00:00.00',\n",
    "'2006-01-01T00:00:00.00',\n",
    "'2006-07-01T00:00:00.00',\n",
    "'2007-01-01T00:00:00.00',\n",
    "'2007-07-01T00:00:00.00',\n",
    "'2008-01-01T00:00:00.00',\n",
    "'2008-07-01T00:00:00.00',\n",
    "'2009-01-01T00:00:00.00',\n",
    "'2009-07-01T00:00:00.00',\n",
    "'2010-01-01T00:00:00.00',\n",
    "'2010-07-01T00:00:00.00',\n",
    "'2011-01-01T00:00:00.00',\n",
    "'2011-07-01T00:00:00.00',\n",
    "'2012-01-01T00:00:00.00',\n",
    "'2012-07-01T00:00:00.00',\n",
    "'2013-01-01T00:00:00.00',\n",
    "'2013-07-01T00:00:00.00',\n",
    "'2014-01-01T00:00:00.00',\n",
    "'2014-04-19T00:00:00.00',\n",
    "'2014-07-01T00:00:00.00',\n",
    "'2015-01-01T00:00:00.00',\n",
    "'2015-07-01T00:00:00.00',\n",
    "'2016-01-01T00:00:00.00',\n",
    "'2016-07-01T00:00:00.00',\n",
    "'2017-01-01T00:00:00.00',\n",
    "'2017-07-01T00:00:00.00',\n",
    "'2017-10-19T00:00:00.00',\n",
    "]\n",
    "\n",
    "shift_vals = [0.0,0.0,0.4,1.1,1.9,2.6,3.4,4.1,4.9,5.6,6.0,6.0,6.0,6.0,7.0,7.3,7.7,8.0,8.4,8.7,9.1,9.1,9.2,9.3,9.4,9.5,9.6,9.7,9.8]\n",
    "shift_vals = np.asarray(shift_vals)\n",
    "shift_vals /= 1000\n",
    "\n",
    "date_vector = Time(shift_dates,format='isot').jd\n",
    "date_interp = interp1d(date_vector,shift_vals)\n",
    "\n",
    "all_shifts = date_interp(list(airmass_data['starttime']))\n",
    "\n",
    "wave_shifts = []\n",
    "year_list = []\n",
    "for year in range(2004,2018):\n",
    "    start_date = Time(str(year)+'-01-01T00:00:00.00',format='isot').jd\n",
    "    end_date = Time(str(year+1)+'-01-01T00:00:00.00',format='isot').jd\n",
    "    inds = np.where((start_vals >= start_date) & (start_vals <= end_date))[0]\n",
    "    if len(inds) > 500:\n",
    "        shift_ind = np.where(date_vector == Time(str(year)+'-07-01T00:00:00.00',format='isot').jd)[0][0] # Only using one value since all shifts should be the same for a specific date\n",
    "        wave_shifts.append(shift_vals[shift_ind])\n",
    "        year_list.append(year)"
   ]
  },
  {
   "cell_type": "markdown",
   "metadata": {},
   "source": [
    "Calculated shift - sort data by start_vals, and then calculate differences"
   ]
  },
  {
   "cell_type": "code",
   "execution_count": 48,
   "metadata": {},
   "outputs": [],
   "source": [
    "m_shifts = []\n",
    "for spectrum in all_spectra:\n",
    "    my_fit,_ = curve_fit(gaussian,vims_wave[window],spectrum[window],p0=[.05,2.,.05],maxfev=20000)"
   ]
  },
  {
   "cell_type": "code",
   "execution_count": null,
   "metadata": {},
   "outputs": [],
   "source": []
  },
  {
   "cell_type": "markdown",
   "metadata": {},
   "source": [
    "# Clark Shift"
   ]
  },
  {
   "cell_type": "code",
   "execution_count": 49,
   "metadata": {},
   "outputs": [
    {
     "data": {
      "image/png": "[encoded data removed]",
      "text/plain": [
       "<Figure size 640x480 with 1 Axes>"
      ]
     },
     "metadata": {},
     "output_type": "display_data"
    }
   ],
   "source": [
    "%matplotlib inline\n",
    "plt.plot(m_shifts)\n",
    "plt.grid()\n",
    "plt.xlabel('Spectrum Number')\n",
    "plt.ylabel('Wavelength (nm)')\n",
    "plt.title('Shifts of VIMS Spectra')\n",
    "plt.show()"
   ]
  },
  {
   "cell_type": "code",
   "execution_count": 50,
   "metadata": {},
   "outputs": [
    {
     "data": {
      "image/png": "[encoded data removed]",
      "text/plain": [
       "<Figure size 640x480 with 1 Axes>"
      ]
     },
     "metadata": {},
     "output_type": "display_data"
    }
   ],
   "source": [
    "%matplotlib inline\n",
    "plt.plot(shift_vals)\n",
    "plt.grid()\n",
    "plt.xlabel('Shift Num')\n",
    "plt.ylabel('Wavelength (nm)')\n",
    "plt.title('Shifts of VIMS Spectra')\n",
    "plt.show()"
   ]
  },
  {
   "cell_type": "code",
   "execution_count": 51,
   "metadata": {},
   "outputs": [
    {
     "name": "stdout",
     "output_type": "stream",
     "text": [
      "0 0\n"
     ]
    }
   ],
   "source": [
    "n = 0\n",
    "p = 0\n",
    "# count which values in np.diff(m_shifts) are negative \n",
    "# and which are positive\n",
    "for entry in np.diff(m_shifts):\n",
    "    if entry < 0:\n",
    "        n += 1\n",
    "    else:\n",
    "        p += 1\n",
    "print(n,p)"
   ]
  },
  {
   "cell_type": "code",
   "execution_count": 52,
   "metadata": {},
   "outputs": [
    {
     "data": {
      "image/png": "[encoded data removed]",
      "text/plain": [
       "<Figure size 640x480 with 1 Axes>"
      ]
     },
     "metadata": {},
     "output_type": "display_data"
    }
   ],
   "source": [
    "%matplotlib inline\n",
    "plt.plot(np.diff(m_shifts))\n",
    "plt.grid()\n",
    "plt.show()"
   ]
  },
  {
   "cell_type": "code",
   "execution_count": 53,
   "metadata": {},
   "outputs": [
    {
     "name": "stdout",
     "output_type": "stream",
     "text": [
      "0\n"
     ]
    }
   ],
   "source": [
    "k = 0\n",
    "for entry in np.diff(m_shifts):\n",
    "    if np.abs(entry) > 1:\n",
    "        k += 1\n",
    "print(k)"
   ]
  },
  {
   "cell_type": "code",
   "execution_count": null,
   "metadata": {},
   "outputs": [],
   "source": []
  }
 ],
 "metadata": {
  "kernelspec": {
   "display_name": "Python 3.9.13 ('base')",
   "language": "python",
   "name": "python3"
  },
  "language_info": {
   "codemirror_mode": {
    "name": "ipython",
    "version": 3
   },
   "file_extension": ".py",
   "mimetype": "text/x-python",
   "name": "python",
   "nbconvert_exporter": "python",
   "pygments_lexer": "ipython3",
   "version": "3.9.13"
  },
  "orig_nbformat": 4,
  "vscode": {
   "interpreter": {
    "hash": "6c01efea219ea0303b6e6cd1897665114cc62146ed112ea21ec489238fdae255"
   }
  }
 },
 "nbformat": 4,
 "nbformat_minor": 2
}
