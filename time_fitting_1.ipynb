{
 "cells": [
  {
   "cell_type": "code",
   "execution_count": 2,
   "metadata": {},
   "outputs": [],
   "source": [
    "import numpy as np\n",
    "import pandas as pd\n",
    "import matplotlib.pyplot as plt\n",
    "from matplotlib.pyplot import figure\n",
    "from scipy.optimize import curve_fit\n",
    "from itertools import chain\n",
    "\n",
    "vims_wave = np.loadtxt('vims_wave.txt')\n",
    "new_array = ['_0405','_0607','_0809','_1011','_1213','_1415','_1617']\n",
    "for number in new_array:\n",
    "    new_string = 'df'+number+' = '+'pd.read_pickle(\"e_data/data'+number+'.pkl\")'\n",
    "    exec(new_string)\n",
    "\n",
    "#Functions for later\n",
    "\n",
    "def powerlaw(x,a,b):\n",
    "    return a*np.power(x,b)\n",
    "\n",
    "def gaussian(x,a,mu,sigma):\n",
    "    return a*np.exp(-(x-mu)**2/(2*sigma**2))\n",
    "\n",
    "def flatten(some_list):\n",
    "    flat_list = []\n",
    "    for element in some_list:\n",
    "        if type(element) is list:\n",
    "            for item in element:\n",
    "                flat_list.append(item)\n",
    "        else:\n",
    "            flat_list.append(element)\n",
    "    return flat_list\n",
    "\n",
    "band_channels = list(chain(range(29,35),range(46,60),range(78,96),range(102,106)))\n",
    "\n",
    "window = list(range(56,83))\n",
    "\n",
    "def fit_line(dataframe):\n",
    "    spectra = np.average(dataframe)\n",
    "    my_fit,_ = curve_fit(powerlaw,vims_wave[band_channels],spectra[band_channels],p0=[.15,-12])\n",
    "    final_fit = powerlaw(vims_wave,*my_fit)\n",
    "    return final_fit\n",
    "\n",
    "def custom_fit(dataframe):\n",
    "    spectra = np.average(dataframe)\n",
    "    my_fit,_ = curve_fit(powerlaw,vims_wave[band_channels],spectra[band_channels],p0=[.15,-12])\n",
    "    final_spectra = spectra-powerlaw(vims_wave,*my_fit)\n",
    "    return final_spectra\n",
    "\n",
    "def single_fit(spectrum):\n",
    "    my_fit,_ = curve_fit(powerlaw,vims_wave[band_channels],spectrum[band_channels],p0=[.15,-12])\n",
    "    final_spectrum = spectrum-powerlaw(vims_wave,*my_fit)\n",
    "    return final_spectrum\n",
    "\n",
    "def shift_ret(spectrum):\n",
    "    my_fit,_ = curve_fit(gaussian,vims_wave[window],spectrum[window],p0=[.05,2,.05])\n",
    "    return my_fit[1]"
   ]
  },
  {
   "cell_type": "code",
   "execution_count": 3,
   "metadata": {},
   "outputs": [],
   "source": [
    "spec_list = [] #UNFILTERED - shorthand name means that the data has not been fit or filtered\n",
    "for number in new_array:\n",
    "    my_string = 'spec'+number+\" = df\"+number+\"['spectrum']\"\n",
    "    exec(my_string)\n",
    "    spec = 'spec'+number\n",
    "    new_spec = locals()[spec]\n",
    "    spec_list.append(new_spec)\n",
    "\n",
    "time_list = []\n",
    "for number in new_array:\n",
    "    my_string = 'ettime'+number+\" = df\"+number+\"['ettime']\"\n",
    "    exec(my_string)\n",
    "    time = 'ettime'+number\n",
    "    time_list.append(locals()[time])"
   ]
  },
  {
   "cell_type": "markdown",
   "metadata": {},
   "source": [
    "### Fitting All Spectra"
   ]
  },
  {
   "cell_type": "code",
   "execution_count": 4,
   "metadata": {},
   "outputs": [
    {
     "name": "stdout",
     "output_type": "stream",
     "text": [
      "(11779, 256)\n",
      "(11779,)\n"
     ]
    }
   ],
   "source": [
    "#Define all fit spectra under one single list (specific year groups will be added later)\n",
    "spectrum_list = [] #total SPECTRUM list\n",
    "mean_list = [] #List for shifts to be plotted later\n",
    "ettime_list = []\n",
    "for (df,tf) in zip(spec_list,time_list):\n",
    "    for (spectrum,time) in zip(df,tf):\n",
    "        fit_thing = single_fit(spectrum)\n",
    "        std = np.std(fit_thing[150:200]) # Variance of the I/F values\n",
    "        ind = np.where((fit_thing>=0.17)|(fit_thing<=-.03))\n",
    "        \n",
    "        if len(ind) == 0 or std<.005:\n",
    "            spectrum_list.append(fit_thing)\n",
    "            my_fit,_ = curve_fit(gaussian,vims_wave[window],fit_thing[window],p0=[.05,2,.05])\n",
    "            mean_list.append(my_fit[1])\n",
    "            ettime_list.append(time)\n",
    "\n",
    "# Convert all lists objects within total_list to numpy arrays\n",
    "spectrum_array = np.asarray(spectrum_list)\n",
    "time_array = np.asarray(ettime_list)\n",
    "print(np.shape(spectrum_array)) \n",
    "print(np.shape(time_array)) "
   ]
  },
  {
   "cell_type": "markdown",
   "metadata": {},
   "source": [
    "### Sort the two lists together!"
   ]
  },
  {
   "cell_type": "markdown",
   "metadata": {},
   "source": [
    "params = spectrum_array.argsort()\n",
    "spectrum_array = spectrum_array[params]\n",
    "time_array = time_array[params]"
   ]
  },
  {
   "cell_type": "code",
   "execution_count": 4,
   "metadata": {},
   "outputs": [],
   "source": [
    "time_array -= np.min(time_array) # Subtracting youngest time from all values\n",
    "time_array /= np.pi * 10**7 # Converts to years"
   ]
  },
  {
   "cell_type": "code",
   "execution_count": 5,
   "metadata": {},
   "outputs": [
    {
     "data": {
      "image/png": "[encoded data removed]",
      "text/plain": [
       "<Figure size 432x288 with 1 Axes>"
      ]
     },
     "metadata": {},
     "output_type": "display_data"
    }
   ],
   "source": [
    "%matplotlib inline\n",
    "fig,ax = plt.subplots(1,facecolor='black')\n",
    "for spectrum in spectrum_list:\n",
    "    plt.plot(vims_wave,spectrum)\n",
    "\n",
    "for ax in fig.get_axes():\n",
    "    ax.tick_params(axis='x',colors='white')\n",
    "    ax.tick_params(axis='y',colors='white')\n",
    "\n",
    "ax.set_facecolor('k')\n",
    "plt.show()"
   ]
  }
 ],
 "metadata": {
  "interpreter": {
   "hash": "3067ead486e059ec00ffe7555bdb889e6e264a24dc711bf108106cc7baee8d5d"
  },
  "kernelspec": {
   "display_name": "Python 3.9.7 ('base')",
   "language": "python",
   "name": "python3"
  },
  "language_info": {
   "codemirror_mode": {
    "name": "ipython",
    "version": 3
   },
   "file_extension": ".py",
   "mimetype": "text/x-python",
   "name": "python",
   "nbconvert_exporter": "python",
   "pygments_lexer": "ipython3",
   "version": "3.9.7"
  },
  "orig_nbformat": 4
 },
 "nbformat": 4,
 "nbformat_minor": 2
}
