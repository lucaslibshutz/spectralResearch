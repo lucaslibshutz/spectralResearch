{
 "cells": [
  {
   "cell_type": "code",
   "execution_count": 2,
   "metadata": {},
   "outputs": [],
   "source": [
    "import numpy as np\n",
    "import pandas as pd\n",
    "import matplotlib.pyplot as plt\n",
    "from matplotlib.pyplot import figure\n",
    "from scipy.optimize import curve_fit\n",
    "from itertools import chain"
   ]
  },
  {
   "cell_type": "code",
   "execution_count": 3,
   "metadata": {},
   "outputs": [],
   "source": [
    "vims_wave = np.loadtxt('vims_wave.txt')\n",
    "new_array = ['_0405','_0607','_0809','_1011','_1213','_1415','_1617']\n",
    "for number in new_array:\n",
    "    new_string = 'df'+number+' = '+'pd.read_pickle(\"e_data/data'+number+'.pkl\")'\n",
    "    exec(new_string)"
   ]
  },
  {
   "cell_type": "markdown",
   "metadata": {},
   "source": [
    "### Functions for different types of fits and curves"
   ]
  },
  {
   "cell_type": "code",
   "execution_count": 4,
   "metadata": {},
   "outputs": [],
   "source": [
    "def powerlaw(x,a,b):\n",
    "    return a*np.power(x,b)\n",
    "\n",
    "def gaussian(x,a,mu,sigma):\n",
    "    return a*np.exp(-(x-mu)**2/(2*sigma**2))\n",
    "\n",
    "def flatten(some_list):\n",
    "    flat_list = []\n",
    "    for element in some_list:\n",
    "        if type(element) is list:\n",
    "            for item in element:\n",
    "                flat_list.append(item)\n",
    "        else:\n",
    "            flat_list.append(element)\n",
    "    return flat_list\n",
    "\n",
    "band_channels = list(chain(range(29,35),range(46,60),range(78,96),range(102,106)))\n",
    "\n",
    "window = list(range(56,83))\n",
    "\n",
    "def fit_line(dataframe):\n",
    "    spectra = np.average(dataframe)\n",
    "    my_fit,_ = curve_fit(powerlaw,vims_wave[band_channels],spectra[band_channels],p0=[.15,-12])\n",
    "    final_fit = powerlaw(vims_wave,*my_fit)\n",
    "    return final_fit\n",
    "\n",
    "def custom_fit(dataframe):\n",
    "    spectra = np.average(dataframe)\n",
    "    my_fit,_ = curve_fit(powerlaw,vims_wave[band_channels],spectra[band_channels],p0=[.15,-12])\n",
    "    final_spectra = spectra-powerlaw(vims_wave,*my_fit)\n",
    "    return final_spectra\n",
    "\n",
    "def single_fit(spectrum):\n",
    "    my_fit,_ = curve_fit(powerlaw,vims_wave[band_channels],spectrum[band_channels],p0=[.15,-12])\n",
    "    final_spectrum = spectrum-powerlaw(vims_wave,*my_fit)\n",
    "    return final_spectrum\n",
    "\n",
    "def shift_ret(spectrum):\n",
    "    my_fit,_ = curve_fit(gaussian,vims_wave[window],spectrum[window],p0=[.05,2,.05])\n",
    "    return my_fit[1]"
   ]
  },
  {
   "cell_type": "code",
   "execution_count": 5,
   "metadata": {},
   "outputs": [],
   "source": [
    "df_list = []\n",
    "for number in new_array:\n",
    "    my_string = 'spec'+number+\" = df\"+number+\"['spectrum']\"\n",
    "    exec(my_string)\n",
    "    spec = 'spec'+number\n",
    "    new_spec = locals()[spec]\n",
    "    df_list.append(new_spec)\n",
    "\n",
    "time_list = []\n",
    "for number in new_array:\n",
    "    my_string = 'ettime'+number+\" = df\"+number+\"['ettime']\"\n",
    "    exec(my_string)\n",
    "    time = 'ettime'+number\n",
    "    time_list.append(locals()[time])"
   ]
  },
  {
   "cell_type": "markdown",
   "metadata": {},
   "source": [
    "### Fitting All Spectra"
   ]
  },
  {
   "cell_type": "code",
   "execution_count": 6,
   "metadata": {},
   "outputs": [
    {
     "name": "stdout",
     "output_type": "stream",
     "text": [
      "(11350, 256)\n",
      "(12655, 256)\n"
     ]
    }
   ],
   "source": [
    "#Define all fit spectra under one single list (specific year groups will be added later)\n",
    "total_list = [] #total SPECTRUM list\n",
    "mean_list = [] #List for shifts to be plotted later\n",
    "for df in df_list:\n",
    "    for spectrum in df:\n",
    "        fit_thing = single_fit(spectrum)\n",
    "        k = 0\n",
    "        for number in fit_thing:\n",
    "            if ((number >= .17) or (number <= -.03)):\n",
    "                k += 1\n",
    "        if k == 0:\n",
    "            total_list.append(fit_thing)\n",
    "            my_shift_value = shift_ret(fit_thing)\n",
    "            mean_list.append(my_shift_value)\n",
    "\n",
    "# Convert all lists objects within total_list to numpy arrays\n",
    "total_array = np.asarray(total_list)\n",
    "print(np.shape(total_array)) # Confirms that array is working correctly (should output 12655, 256), filtered is (11350,256) - 1305 spectra filtered out for averaging\n",
    "\n",
    "unf_total = []\n",
    "for df in df_list:\n",
    "    for spectrum in df:\n",
    "        fit_thing = single_fit(spectrum)\n",
    "        unf_total.append(fit_thing)\n",
    "unf_array = np.asarray(unf_total)\n",
    "print(np.shape(unf_total))"
   ]
  },
  {
   "cell_type": "markdown",
   "metadata": {},
   "source": [
    "### Fitting Separately by year groups"
   ]
  },
  {
   "cell_type": "code",
   "execution_count": 7,
   "metadata": {},
   "outputs": [
    {
     "name": "stdout",
     "output_type": "stream",
     "text": [
      "Data (2004 --> 2005) = 2414 spectra, 256 channels\n",
      "Data (2006 --> 2007) = 2918 spectra, 256 channels\n",
      "Data (2008 --> 2009) = 723 spectra, 256 channels\n",
      "Data (2010 --> 2011) = 1473 spectra, 256 channels\n",
      "Data (2012 --> 2013) = 688 spectra, 256 channels\n",
      "Data (2014 --> 2015) = 1983 spectra, 256 channels\n",
      "Data (2016 --> 2017) = 1151 spectra, 256 channels\n",
      "Total = 11350\n"
     ]
    }
   ],
   "source": [
    "fit_groups = []\n",
    "for (spec,number) in zip(df_list,new_array):\n",
    "    exec('fit_list'+number+' = []')\n",
    "    for spectrum in spec:\n",
    "        fit_spec = single_fit(spectrum)\n",
    "        k = 0\n",
    "        for intensity in fit_spec:\n",
    "            if ((intensity >= .17) or (intensity <= -.03)):\n",
    "                k += 1\n",
    "        if k == 0:\n",
    "            locals()['fit_list'+number].append(fit_spec)\n",
    "    exec('fit_array'+number+' = np.asarray(fit_list'+number+')')\n",
    "    fit_groups.append(locals()['fit_array'+number])\n",
    "#! Make it so you are only appending to numpy array and not to a list first\n",
    "\n",
    "#Print shapes of groups --> ensures output is correct\n",
    "total = 0\n",
    "for (group,number) in zip(fit_groups,new_array):\n",
    "    shape = str(np.shape(group))\n",
    "    if len(shape) == 11:\n",
    "        print('Data (20'+number[1:3]+' --> 20'+number[3:5]+') = '+shape[1:5]+' spectra, '+shape[-4:-1]+' channels')\n",
    "        total += int(shape[1:5])\n",
    "    elif len(shape) == 10:\n",
    "        print('Data (20'+number[1:3]+' --> 20'+number[3:5]+') = '+shape[1:4]+' spectra, '+shape[-4:-1]+' channels')\n",
    "        total += int(shape[1:4])\n",
    "\n",
    "print('Total = '+str(total)) # Exports 11350 if run correctly"
   ]
  },
  {
   "cell_type": "markdown",
   "metadata": {},
   "source": [
    "### Making array of ettime values"
   ]
  },
  {
   "cell_type": "code",
   "execution_count": 24,
   "metadata": {},
   "outputs": [
    {
     "name": "stdout",
     "output_type": "stream",
     "text": [
      "2507\n",
      "3424\n",
      "749\n",
      "1487\n",
      "723\n",
      "2490\n",
      "1275\n",
      "12655\n"
     ]
    }
   ],
   "source": [
    "time_groups = []\n",
    "for (spec,time,number) in zip(df_list,time_list,new_array):\n",
    "    exec('time_list'+number+' = []')\n",
    "    for spectrum in spec:\n",
    "        fit_spec = single_fit(spectrum) # Only want to use time values with 'good' spectra\n",
    "        k = 0\n",
    "        for intensity in fit_spec:\n",
    "            if ((intensity >= .17) or (intensity <= -.03)):\n",
    "                k += 1\n",
    "        if k == 0:\n",
    "            locals()['time_list'+number].append(time)\n",
    "    exec('time_array'+number+' = np.asarray(time_list'+number+')')\n",
    "    time_groups.append(locals()['time_array'+number])\n",
    "\n",
    "total = 0\n",
    "for group in time_groups:\n",
    "    print(np.shape(group)[1])\n",
    "    total += np.shape(group)[1]\n",
    "\n",
    "print(total)"
   ]
  }
 ],
 "metadata": {
  "interpreter": {
   "hash": "3067ead486e059ec00ffe7555bdb889e6e264a24dc711bf108106cc7baee8d5d"
  },
  "kernelspec": {
   "display_name": "Python 3.9.7 ('base')",
   "language": "python",
   "name": "python3"
  },
  "language_info": {
   "codemirror_mode": {
    "name": "ipython",
    "version": 3
   },
   "file_extension": ".py",
   "mimetype": "text/x-python",
   "name": "python",
   "nbconvert_exporter": "python",
   "pygments_lexer": "ipython3",
   "version": "3.9.7"
  },
  "orig_nbformat": 4
 },
 "nbformat": 4,
 "nbformat_minor": 2
}
