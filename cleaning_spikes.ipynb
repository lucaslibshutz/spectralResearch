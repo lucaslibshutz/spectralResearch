{
 "cells": [
  {
   "cell_type": "code",
   "execution_count": 1,
   "id": "b0ec900a",
   "metadata": {
    "ExecuteTime": {
     "end_time": "2022-04-07T18:42:05.580771Z",
     "start_time": "2022-04-07T18:41:36.723121Z"
    }
   },
   "outputs": [
    {
     "name": "stderr",
     "output_type": "stream",
     "text": [
      "/tmp/ipykernel_114/3911062071.py:28: SettingWithCopyWarning: \n",
      "A value is trying to be set on a copy of a slice from a DataFrame\n",
      "\n",
      "See the caveats in the documentation: https://pandas.pydata.org/pandas-docs/stable/user_guide/indexing.html#returning-a-view-versus-a-copy\n",
      "  df['spectrum'][i] = np.array([float(x) for x in df['spectrum'][i][1:-1].split(',')])\n"
     ]
    }
   ],
   "source": [
    "import numpy as np\n",
    "import pandas as pd\n",
    "import matplotlib.pyplot as plt\n",
    "from matplotlib.pyplot import figure\n",
    "from scipy.optimize import curve_fit\n",
    "from scipy.signal import find_peaks\n",
    "from itertools import chain\n",
    "from sys import platform\n",
    "from copy import deepcopy as dc\n",
    "\n",
    "vims_wave = np.loadtxt('vims_wave.txt')\n",
    "\n",
    "new_array = ['_0405','_0607','_0809','_1011','_1213','_1415','_1617']\n",
    "if platform == 'darwin' or platform == 'win32':\n",
    "    for number in new_array:\n",
    "        new_string = 'df'+number+' = pd.read_pickle(\"e_data/data'+number+'.pkl\")'\n",
    "        exec(new_string)\n",
    "else:\n",
    "    df_list = []\n",
    "    for number in new_array:\n",
    "        new_string = 'df'+number+' = pd.read_csv(\"e_data/data'+number+'.csv\")'\n",
    "        exec(new_string)\n",
    "        df = 'df'+number\n",
    "        new_df = locals()[df]\n",
    "        df_list.append(new_df)\n",
    "    for df in df_list:\n",
    "        for i in range(len(df['spectrum'])):\n",
    "            df['spectrum'][i] = np.array([float(x) for x in df['spectrum'][i][1:-1].split(',')])"
   ]
  },
  {
   "cell_type": "code",
   "execution_count": 2,
   "id": "cc0cd5cd",
   "metadata": {
    "ExecuteTime": {
     "end_time": "2022-04-07T18:42:51.685625Z",
     "start_time": "2022-04-07T18:42:51.663282Z"
    }
   },
   "outputs": [
    {
     "name": "stdout",
     "output_type": "stream",
     "text": [
      "List 1: (12655, 256)\n",
      "List 2 (Copy): (12655, 256)\n"
     ]
    }
   ],
   "source": [
    "spec_list = []\n",
    "for number in new_array:\n",
    "    my_string = 'spec'+number+' = df'+number+\"['spectrum']\"\n",
    "    exec(my_string)\n",
    "    spec = 'spec'+number\n",
    "    spec_list.append(locals()[spec])\n",
    "\n",
    "time_list_i = []\n",
    "for number in new_array:\n",
    "    my_string = 'ettime'+number+' = df'+number+\"['ettime']\"\n",
    "    exec(my_string)\n",
    "    time = 'ettime'+number\n",
    "    time_list_i.append(locals()[time])\n",
    "\n",
    "time_list_f = []\n",
    "for df in time_list_i:\n",
    "    for time in df:\n",
    "        time_list_f.append(time)\n",
    "\n",
    "total_spectrum = []\n",
    "for spec in spec_list:\n",
    "    for spectrum in spec:\n",
    "        total_spectrum.append(spectrum)\n",
    "\n",
    "total_spectrum = np.asarray(total_spectrum)\n",
    "total_spectrum_2 = dc(total_spectrum)\n",
    "print('List 1: '+str(np.shape(total_spectrum)))\n",
    "print('List 2 (Copy): '+str(np.shape(total_spectrum_2))) # Confirms that DeepCopy works correctly"
   ]
  },
  {
   "cell_type": "code",
   "execution_count": 66,
   "id": "62c8d569",
   "metadata": {
    "ExecuteTime": {
     "end_time": "2022-04-07T20:11:11.411605Z",
     "start_time": "2022-04-07T20:11:07.127107Z"
    }
   },
   "outputs": [],
   "source": [
    "%matplotlib qt\n",
    "from matplotlib import pyplot as plt\n",
    "\n",
    "for i in range(len(total_spectrum)):\n",
    "    plt.plot(total_spectrum[i])\n",
    "plt.show()"
   ]
  },
  {
   "cell_type": "code",
   "execution_count": 26,
   "id": "3a39185d",
   "metadata": {
    "ExecuteTime": {
     "end_time": "2022-04-07T18:49:03.746789Z",
     "start_time": "2022-04-07T18:49:03.739793Z"
    }
   },
   "outputs": [],
   "source": [
    "#First we'd like to delete sectra of zero values\n",
    "orig = total_spectrum.copy()\n",
    "ind  = np.where(orig[:,0]<.01)\n",
    "orig = np.delete(orig,ind,axis=0)"
   ]
  },
  {
   "cell_type": "code",
   "execution_count": 73,
   "id": "43fda4e1",
   "metadata": {
    "ExecuteTime": {
     "end_time": "2022-04-07T21:09:49.317737Z",
     "start_time": "2022-04-07T21:09:45.966757Z"
    }
   },
   "outputs": [],
   "source": [
    "%matplotlib qt\n",
    "from matplotlib import pyplot as plt\n",
    "\n",
    "for i in range(len(orig)):\n",
    "    plt.plot(orig[i])\n",
    "plt.show()"
   ]
  },
  {
   "cell_type": "code",
   "execution_count": 28,
   "id": "920d2aca",
   "metadata": {
    "ExecuteTime": {
     "end_time": "2022-04-07T18:49:09.404062Z",
     "start_time": "2022-04-07T18:49:09.394576Z"
    }
   },
   "outputs": [],
   "source": [
    "#Next we replace all values less than zero with NaN\n",
    "ind = np.where(orig<0)\n",
    "orig[ind] = 0"
   ]
  },
  {
   "cell_type": "code",
   "execution_count": 30,
   "id": "4f6fd1f2",
   "metadata": {
    "ExecuteTime": {
     "end_time": "2022-04-07T18:49:20.219454Z",
     "start_time": "2022-04-07T18:49:16.279822Z"
    }
   },
   "outputs": [],
   "source": [
    "%matplotlib qt\n",
    "from matplotlib import pyplot as plt\n",
    "\n",
    "for i in range(len(orig)):\n",
    "    plt.plot(orig[i])\n",
    "plt.show()"
   ]
  },
  {
   "cell_type": "code",
   "execution_count": 58,
   "id": "0a65f66e",
   "metadata": {
    "ExecuteTime": {
     "end_time": "2022-04-07T18:53:28.804111Z",
     "start_time": "2022-04-07T18:53:28.190678Z"
    }
   },
   "outputs": [],
   "source": [
    "from scipy.stats import norm\n",
    "\n",
    "#Now we have options the first can be an in place median filter\n",
    "medi = orig.copy()\n",
    "for i in range(256):\n",
    "    vals = medi[:,i]\n",
    "    mu,sigma = norm.fit(vals)\n",
    "    inds = np.where(np.abs(vals-mu)/sigma>3)[0]\n",
    "    for ind in inds:\n",
    "        if i<2:\n",
    "            median = np.median(medi[ind,:i+4])\n",
    "        elif i>253:\n",
    "            median = np.median(medi[ind,i-4:])\n",
    "        else:\n",
    "            median = np.median(medi[ind,i-2:i+2])\n",
    "        medi[ind,i] = median"
   ]
  },
  {
   "cell_type": "code",
   "execution_count": 68,
   "id": "08116a22",
   "metadata": {
    "ExecuteTime": {
     "end_time": "2022-04-07T20:13:51.602886Z",
     "start_time": "2022-04-07T20:13:42.317638Z"
    }
   },
   "outputs": [],
   "source": [
    "%matplotlib qt\n",
    "from matplotlib import pyplot as plt\n",
    "\n",
    "fig,[ax1,ax2] = plt.subplots(1,2)\n",
    "\n",
    "for i in range(len(orig)):\n",
    "    ax1.plot(orig[i])\n",
    "\n",
    "for i in range(len(medi)):\n",
    "    ax2.plot(medi[i])\n",
    "    \n",
    "plt.show()"
   ]
  },
  {
   "cell_type": "code",
   "execution_count": 69,
   "id": "48a8c8e3",
   "metadata": {
    "ExecuteTime": {
     "end_time": "2022-04-07T20:14:45.599192Z",
     "start_time": "2022-04-07T20:14:45.497603Z"
    }
   },
   "outputs": [],
   "source": [
    "from scipy.stats import norm\n",
    "\n",
    "#Now we have options the first can be an in place median filter\n",
    "perc = orig.copy()\n",
    "for i in range(256):\n",
    "    vals = perc[:,i]\n",
    "    p05 = np.percentile(vals,5)\n",
    "    perc[np.where(vals<p05),i] = p05\n",
    "    p95 = np.percentile(vals,95)\n",
    "    perc[np.where(vals>p95),i] = p95"
   ]
  },
  {
   "cell_type": "code",
   "execution_count": 70,
   "id": "adce717a",
   "metadata": {
    "ExecuteTime": {
     "end_time": "2022-04-07T20:14:56.334156Z",
     "start_time": "2022-04-07T20:14:47.612915Z"
    }
   },
   "outputs": [],
   "source": [
    "%matplotlib qt\n",
    "from matplotlib import pyplot as plt\n",
    "\n",
    "fig,[ax1,ax2] = plt.subplots(1,2)\n",
    "\n",
    "for i in range(len(orig)):\n",
    "    ax1.plot(orig[i])\n",
    "\n",
    "for i in range(len(medi)):\n",
    "    ax2.plot(perc[i])\n",
    "    \n",
    "plt.show()"
   ]
  },
  {
   "cell_type": "code",
   "execution_count": 72,
   "id": "dd93fe66",
   "metadata": {
    "ExecuteTime": {
     "end_time": "2022-04-07T21:08:53.416312Z",
     "start_time": "2022-04-07T21:08:53.286884Z"
    }
   },
   "outputs": [],
   "source": [
    "%matplotlib qt\n",
    "from matplotlib import pyplot as plt\n",
    "\n",
    "raw_avg = np.average(orig,axis=0)\n",
    "med_avg = np.average(medi,axis=0)\n",
    "per_avg = np.average(perc,axis=0)\n",
    "wei_avg = []\n",
    "for i in range(256):\n",
    "    mu,sigma = np.average(perc[:,i]),np.std(perc[:,i])\n",
    "    weights = sigma/np.abs(perc[:,i]-mu)\n",
    "    wei_avg.append(np.sum(weights*perc[:,i])/np.sum(weights))\n",
    "wei_avg = np.asarray(wei_avg)\n",
    "\n",
    "\n",
    "fig,ax = plt.subplots()\n",
    "\n",
    "ax.plot(raw_avg,label='Raw Average')\n",
    "ax.plot(med_avg,label='Median Average')\n",
    "ax.plot(per_avg,label='Percent Average')\n",
    "ax.plot(wei_avg,label='Weighted Average')\n",
    "ax.plot(np.median(orig,axis=0),label='Raw Median')\n",
    "plt.legend(frameon=False,prop={'size':14})\n",
    "\n",
    "plt.show()"
   ]
  }
 ],
 "metadata": {
  "kernelspec": {
   "display_name": "Python 3 (ipykernel)",
   "language": "python",
   "name": "python3"
  },
  "language_info": {
   "codemirror_mode": {
    "name": "ipython",
    "version": 3
   },
   "file_extension": ".py",
   "mimetype": "text/x-python",
   "name": "python",
   "nbconvert_exporter": "python",
   "pygments_lexer": "ipython3",
   "version": "3.9.7"
  }
 },
 "nbformat": 4,
 "nbformat_minor": 5
}
