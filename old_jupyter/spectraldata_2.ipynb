{
 "cells": [
  {
   "cell_type": "code",
   "execution_count": 1,
   "metadata": {},
   "outputs": [],
   "source": [
    "import numpy as np\n",
    "import matplotlib.pyplot as plt\n",
    "from matplotlib.pyplot import figure\n",
    "import pandas as pd\n",
    "import os"
   ]
  },
  {
   "cell_type": "code",
   "execution_count": 3,
   "metadata": {},
   "outputs": [],
   "source": [
    "df_0405 = pd.read_csv('boxC/boxC_0405_r-fixed.csv')\n",
    "df_0607 = pd.read_csv('boxA/boxA_0607_refined.csv')\n",
    "df_0809 = pd.read_csv('boxD/boxD_0809_fixed.csv')\n",
    "df_1011 = pd.read_csv('boxA/boxA_1011.csv')\n",
    "df_1213 = pd.read_csv('boxD/boxD_1213.csv')\n",
    "df_1415 = pd.read_csv('boxE/boxE_1415.csv')\n",
    "df_1617 = pd.read_csv('boxC/boxC_1617.csv')\n",
    "\n",
    "vims_wave = np.loadtxt('vims_wave.txt')"
   ]
  },
  {
   "cell_type": "code",
   "execution_count": 4,
   "metadata": {},
   "outputs": [],
   "source": [
    "%%capture --no-display\n",
    "for df in (df_0405,df_0607,df_0809,df_1011,df_1213,df_1415,df_1617):\n",
    "    for i in range(len(df['spectrum'])):\n",
    "        df['spectrum'][i] = np.array([float(x) for x in df['spectrum'][i][1:-1].split(',')])"
   ]
  },
  {
   "cell_type": "code",
   "execution_count": 5,
   "metadata": {},
   "outputs": [],
   "source": [
    "spectra_0405 = np.average(np.asarray(df_0405['spectrum']))\n",
    "spectra_0607 = np.average(np.asarray(df_0607['spectrum']))\n",
    "spectra_0809 = np.average(np.asarray(df_0809['spectrum']))\n",
    "spectra_1011 = np.average(np.asarray(df_1011['spectrum']))\n",
    "spectra_1213 = np.average(np.asarray(df_1213['spectrum']))\n",
    "spectra_1415 = np.average(np.asarray(df_1415['spectrum']))\n",
    "spectra_1617 = np.average(np.asarray(df_1617['spectrum']))"
   ]
  },
  {
   "cell_type": "code",
   "execution_count": 6,
   "metadata": {},
   "outputs": [],
   "source": [
    "spectra_list = [spectra_0405,spectra_0607,spectra_0809,spectra_1011,spectra_1213,spectra_1415,spectra_1617]"
   ]
  },
  {
   "cell_type": "code",
   "execution_count": 7,
   "metadata": {},
   "outputs": [
    {
     "data": {
      "image/png": "[encoded data removed]",
      "text/plain": [
       "<Figure size 432x288 with 1 Axes>"
      ]
     },
     "metadata": {
      "needs_background": "light"
     },
     "output_type": "display_data"
    }
   ],
   "source": [
    "%matplotlib inline\n",
    "x = vims_wave\n",
    "for spectra in spectra_list:\n",
    "    plt.plot(x,spectra)\n",
    "plt.xlabel('Wavelength')\n",
    "plt.ylabel('I/F')\n",
    "plt.show()"
   ]
  },
  {
   "cell_type": "code",
   "execution_count": 8,
   "metadata": {},
   "outputs": [
    {
     "data": {
      "image/png": "[encoded data removed]",
      "text/plain": [
       "<Figure size 432x288 with 1 Axes>"
      ]
     },
     "metadata": {
      "needs_background": "light"
     },
     "output_type": "display_data"
    }
   ],
   "source": [
    "%matplotlib inline\n",
    "plt.plot(x,np.average(df_0809['spectrum'][284:285]))\n",
    "plt.show()"
   ]
  },
  {
   "cell_type": "code",
   "execution_count": 9,
   "metadata": {},
   "outputs": [
    {
     "data": {
      "text/plain": [
       "921"
      ]
     },
     "execution_count": 9,
     "metadata": {},
     "output_type": "execute_result"
    }
   ],
   "source": [
    "len(df_0809)"
   ]
  },
  {
   "cell_type": "code",
   "execution_count": 10,
   "metadata": {},
   "outputs": [],
   "source": [
    "bad_data = df_0809['spectrum'][284:285]"
   ]
  },
  {
   "cell_type": "code",
   "execution_count": 11,
   "metadata": {},
   "outputs": [],
   "source": [
    "my_array = []\n",
    "\n",
    "for index, spectrum in enumerate(df_0809['spectrum']):\n",
    "    k = 0\n",
    "    for number in spectrum:\n",
    "        if number < -20:\n",
    "            k += 1\n",
    "    if k >= 2:\n",
    "        my_array.append(index)\n",
    "# Found all spectra within 2008-2009 that have negative values (besides the ones already filtered out by previous SQL query)"
   ]
  },
  {
   "cell_type": "code",
   "execution_count": 13,
   "metadata": {},
   "outputs": [
    {
     "data": {
      "text/plain": [
       "[227, 284, 335, 400, 469, 547, 624, 716, 817, 918]"
      ]
     },
     "execution_count": 13,
     "metadata": {},
     "output_type": "execute_result"
    }
   ],
   "source": [
    "my_array"
   ]
  },
  {
   "cell_type": "code",
   "execution_count": 21,
   "metadata": {},
   "outputs": [
    {
     "data": {
      "text/html": [
       "<div>\n",
       "<style scoped>\n",
       "    .dataframe tbody tr th:only-of-type {\n",
       "        vertical-align: middle;\n",
       "    }\n",
       "\n",
       "    .dataframe tbody tr th {\n",
       "        vertical-align: top;\n",
       "    }\n",
       "\n",
       "    .dataframe thead th {\n",
       "        text-align: right;\n",
       "    }\n",
       "</style>\n",
       "<table border=\"1\" class=\"dataframe\">\n",
       "  <thead>\n",
       "    <tr style=\"text-align: right;\">\n",
       "      <th></th>\n",
       "      <th>fileid</th>\n",
       "      <th>lineres</th>\n",
       "      <th>emission</th>\n",
       "      <th>incidence</th>\n",
       "      <th>latitude</th>\n",
       "      <th>longitude</th>\n",
       "      <th>spectrum</th>\n",
       "    </tr>\n",
       "  </thead>\n",
       "  <tbody>\n",
       "    <tr>\n",
       "      <th>227</th>\n",
       "      <td>26451</td>\n",
       "      <td>16742.055214</td>\n",
       "      <td>27.065549</td>\n",
       "      <td>23.174956</td>\n",
       "      <td>-11.580185</td>\n",
       "      <td>127.921876</td>\n",
       "      <td>[0.0454172, 0.0835788, 0.126434, 0.142486, 0.0...</td>\n",
       "    </tr>\n",
       "  </tbody>\n",
       "</table>\n",
       "</div>"
      ],
      "text/plain": [
       "     fileid       lineres   emission  incidence   latitude   longitude  \\\n",
       "227   26451  16742.055214  27.065549  23.174956 -11.580185  127.921876   \n",
       "\n",
       "                                              spectrum  \n",
       "227  [0.0454172, 0.0835788, 0.126434, 0.142486, 0.0...  "
      ]
     },
     "execution_count": 21,
     "metadata": {},
     "output_type": "execute_result"
    }
   ],
   "source": [
    "df_0809[227:228]"
   ]
  },
  {
   "cell_type": "code",
   "execution_count": 43,
   "metadata": {},
   "outputs": [
    {
     "data": {
      "text/plain": [
       "[227, 284, 335, 400, 469, 547, 624, 716, 817, 918]"
      ]
     },
     "execution_count": 43,
     "metadata": {},
     "output_type": "execute_result"
    }
   ],
   "source": [
    "my_array"
   ]
  },
  {
   "cell_type": "code",
   "execution_count": 44,
   "metadata": {},
   "outputs": [
    {
     "data": {
      "text/html": [
       "<div>\n",
       "<style scoped>\n",
       "    .dataframe tbody tr th:only-of-type {\n",
       "        vertical-align: middle;\n",
       "    }\n",
       "\n",
       "    .dataframe tbody tr th {\n",
       "        vertical-align: top;\n",
       "    }\n",
       "\n",
       "    .dataframe thead th {\n",
       "        text-align: right;\n",
       "    }\n",
       "</style>\n",
       "<table border=\"1\" class=\"dataframe\">\n",
       "  <thead>\n",
       "    <tr style=\"text-align: right;\">\n",
       "      <th></th>\n",
       "      <th>fileid</th>\n",
       "      <th>lineres</th>\n",
       "      <th>emission</th>\n",
       "      <th>incidence</th>\n",
       "      <th>latitude</th>\n",
       "      <th>longitude</th>\n",
       "      <th>spectrum</th>\n",
       "    </tr>\n",
       "  </thead>\n",
       "  <tbody>\n",
       "    <tr>\n",
       "      <th>227</th>\n",
       "      <td>26451</td>\n",
       "      <td>16742.055214</td>\n",
       "      <td>27.065549</td>\n",
       "      <td>23.174956</td>\n",
       "      <td>-11.580185</td>\n",
       "      <td>127.921876</td>\n",
       "      <td>[0.0454172, 0.0835788, 0.126434, 0.142486, 0.0...</td>\n",
       "    </tr>\n",
       "    <tr>\n",
       "      <th>284</th>\n",
       "      <td>26451</td>\n",
       "      <td>16749.180940</td>\n",
       "      <td>27.450764</td>\n",
       "      <td>22.823379</td>\n",
       "      <td>-11.514068</td>\n",
       "      <td>127.527944</td>\n",
       "      <td>[0.0491795, 0.0837179, 0.120859, 0.141387, 0.0...</td>\n",
       "    </tr>\n",
       "    <tr>\n",
       "      <th>335</th>\n",
       "      <td>26451</td>\n",
       "      <td>16756.492315</td>\n",
       "      <td>27.838483</td>\n",
       "      <td>22.471994</td>\n",
       "      <td>-11.447714</td>\n",
       "      <td>127.132632</td>\n",
       "      <td>[0.0474258, 0.0870894, 0.123991, 0.137633, 0.0...</td>\n",
       "    </tr>\n",
       "    <tr>\n",
       "      <th>400</th>\n",
       "      <td>26451</td>\n",
       "      <td>16763.993883</td>\n",
       "      <td>28.228707</td>\n",
       "      <td>22.120858</td>\n",
       "      <td>-11.381120</td>\n",
       "      <td>126.735899</td>\n",
       "      <td>[0.0475275, 0.0840591, 0.125713, 0.141972, 0.0...</td>\n",
       "    </tr>\n",
       "    <tr>\n",
       "      <th>469</th>\n",
       "      <td>26451</td>\n",
       "      <td>16771.690402</td>\n",
       "      <td>28.621438</td>\n",
       "      <td>21.770029</td>\n",
       "      <td>-11.314282</td>\n",
       "      <td>126.337705</td>\n",
       "      <td>[0.0420747, 0.0842614, 0.123106, 0.142319, 0.0...</td>\n",
       "    </tr>\n",
       "    <tr>\n",
       "      <th>547</th>\n",
       "      <td>26451</td>\n",
       "      <td>16779.586860</td>\n",
       "      <td>29.016683</td>\n",
       "      <td>21.419574</td>\n",
       "      <td>-11.247196</td>\n",
       "      <td>125.938009</td>\n",
       "      <td>[0.0421858, 0.0844853, 0.123435, 0.142703, 0.0...</td>\n",
       "    </tr>\n",
       "    <tr>\n",
       "      <th>624</th>\n",
       "      <td>26451</td>\n",
       "      <td>16787.688485</td>\n",
       "      <td>29.414450</td>\n",
       "      <td>21.069568</td>\n",
       "      <td>-11.179860</td>\n",
       "      <td>125.536767</td>\n",
       "      <td>[0.0516366, 0.0831088, 0.12526, 0.141766, 0.09...</td>\n",
       "    </tr>\n",
       "    <tr>\n",
       "      <th>716</th>\n",
       "      <td>26451</td>\n",
       "      <td>16796.000760</td>\n",
       "      <td>29.814750</td>\n",
       "      <td>20.720091</td>\n",
       "      <td>-11.112268</td>\n",
       "      <td>125.133936</td>\n",
       "      <td>[0.0517987, 0.0849983, 0.124189, 0.14222, 0.09...</td>\n",
       "    </tr>\n",
       "    <tr>\n",
       "      <th>817</th>\n",
       "      <td>26451</td>\n",
       "      <td>16804.529439</td>\n",
       "      <td>30.217599</td>\n",
       "      <td>20.371234</td>\n",
       "      <td>-11.044417</td>\n",
       "      <td>124.729469</td>\n",
       "      <td>[0.0463404, 0.0869208, 0.126089, 0.144077, 0.0...</td>\n",
       "    </tr>\n",
       "    <tr>\n",
       "      <th>918</th>\n",
       "      <td>26451</td>\n",
       "      <td>16813.280565</td>\n",
       "      <td>30.623012</td>\n",
       "      <td>20.023094</td>\n",
       "      <td>-10.976303</td>\n",
       "      <td>124.323320</td>\n",
       "      <td>[0.050279, 0.0856006, 0.126554, 0.144611, 0.09...</td>\n",
       "    </tr>\n",
       "  </tbody>\n",
       "</table>\n",
       "</div>"
      ],
      "text/plain": [
       "     fileid       lineres   emission  incidence   latitude   longitude  \\\n",
       "227   26451  16742.055214  27.065549  23.174956 -11.580185  127.921876   \n",
       "284   26451  16749.180940  27.450764  22.823379 -11.514068  127.527944   \n",
       "335   26451  16756.492315  27.838483  22.471994 -11.447714  127.132632   \n",
       "400   26451  16763.993883  28.228707  22.120858 -11.381120  126.735899   \n",
       "469   26451  16771.690402  28.621438  21.770029 -11.314282  126.337705   \n",
       "547   26451  16779.586860  29.016683  21.419574 -11.247196  125.938009   \n",
       "624   26451  16787.688485  29.414450  21.069568 -11.179860  125.536767   \n",
       "716   26451  16796.000760  29.814750  20.720091 -11.112268  125.133936   \n",
       "817   26451  16804.529439  30.217599  20.371234 -11.044417  124.729469   \n",
       "918   26451  16813.280565  30.623012  20.023094 -10.976303  124.323320   \n",
       "\n",
       "                                              spectrum  \n",
       "227  [0.0454172, 0.0835788, 0.126434, 0.142486, 0.0...  \n",
       "284  [0.0491795, 0.0837179, 0.120859, 0.141387, 0.0...  \n",
       "335  [0.0474258, 0.0870894, 0.123991, 0.137633, 0.0...  \n",
       "400  [0.0475275, 0.0840591, 0.125713, 0.141972, 0.0...  \n",
       "469  [0.0420747, 0.0842614, 0.123106, 0.142319, 0.0...  \n",
       "547  [0.0421858, 0.0844853, 0.123435, 0.142703, 0.0...  \n",
       "624  [0.0516366, 0.0831088, 0.12526, 0.141766, 0.09...  \n",
       "716  [0.0517987, 0.0849983, 0.124189, 0.14222, 0.09...  \n",
       "817  [0.0463404, 0.0869208, 0.126089, 0.144077, 0.0...  \n",
       "918  [0.050279, 0.0856006, 0.126554, 0.144611, 0.09...  "
      ]
     },
     "execution_count": 44,
     "metadata": {},
     "output_type": "execute_result"
    }
   ],
   "source": [
    "df_0809.loc[my_array] ##Found another bad fileID: 26451."
   ]
  }
 ],
 "metadata": {
  "interpreter": {
   "hash": "8003219c8c57211ee3be347d121ba14ebad7276cdae3d94be72d9e4e17f9edd5"
  },
  "kernelspec": {
   "display_name": "Python 3",
   "language": "python",
   "name": "python3"
  },
  "language_info": {
   "codemirror_mode": {
    "name": "ipython",
    "version": 3
   },
   "file_extension": ".py",
   "mimetype": "text/x-python",
   "name": "python",
   "nbconvert_exporter": "python",
   "pygments_lexer": "ipython3",
   "version": "3.9.7"
  }
 },
 "nbformat": 4,
 "nbformat_minor": 2
}
