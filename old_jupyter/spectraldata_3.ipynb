{
 "cells": [
  {
   "cell_type": "code",
   "execution_count": null,
   "metadata": {},
   "outputs": [],
   "source": [
    "import numpy as np\n",
    "import matplotlib.pyplot as plt\n",
    "from matplotlib.pyplot import figure\n",
    "import pandas as pd\n",
    "from scipy.optimize import curve_fit"
   ]
  },
  {
   "cell_type": "code",
   "execution_count": null,
   "metadata": {},
   "outputs": [],
   "source": [
    "%%capture --no-display\n",
    "df_0405 = pd.read_csv('boxC/boxC_0405_r-fixed.csv')\n",
    "df_0607 = pd.read_csv('boxA/boxA_0607_refined.csv')\n",
    "df_0809 = pd.read_csv('boxD/boxD_0809_fixed_2.csv')\n",
    "df_1011 = pd.read_csv('boxA/boxA_1011.csv')\n",
    "df_1213 = pd.read_csv('boxD/boxD_1213.csv')\n",
    "df_1415 = pd.read_csv('boxE/boxE_1415.csv')\n",
    "df_1617 = pd.read_csv('boxC/boxC_1617.csv')\n",
    "\n",
    "vims_wave = np.loadtxt('vims_wave.txt')\n",
    "\n",
    "for df in (df_0405,df_0607,df_0809,df_1011,df_1213,df_1415,df_1617):\n",
    "    for i in range(len(df['spectrum'])):\n",
    "        df['spectrum'][i] = np.array([float(x) for x in df['spectrum'][i][1:-1].split(',')])\n",
    "\n",
    "\n",
    "spectra_0405 = np.average(np.asarray(df_0405['spectrum']))\n",
    "spectra_0607 = np.average(np.asarray(df_0607['spectrum']))\n",
    "spectra_0809 = np.average(np.asarray(df_0809['spectrum']))\n",
    "spectra_1011 = np.average(np.asarray(df_1011['spectrum']))\n",
    "spectra_1213 = np.average(np.asarray(df_1213['spectrum']))\n",
    "spectra_1415 = np.average(np.asarray(df_1415['spectrum']))\n",
    "spectra_1617 = np.average(np.asarray(df_1617['spectrum']))\n",
    "\n",
    "spectra_list = [spectra_0405,spectra_0607,spectra_0809,spectra_1011,spectra_1213,spectra_1415,spectra_1617]"
   ]
  },
  {
   "cell_type": "code",
   "execution_count": null,
   "metadata": {},
   "outputs": [],
   "source": [
    "%matplotlib qt5\n",
    "x = vims_wave\n",
    "for spectra in spectra_list:\n",
    "    y = spectra\n",
    "    p = np.polyval(np.polyfit(x,y,8),x)\n",
    "    plt.plot(vims_wave,spectra)\n",
    "   # plt.plot(vims_wave,p,c='r')\n",
    "plt.xlabel('Wavelength')\n",
    "plt.ylabel('I/F')\n",
    "plt.show()"
   ]
  },
  {
   "cell_type": "code",
   "execution_count": null,
   "metadata": {},
   "outputs": [],
   "source": [
    "def gaussian(x,a,mu,sigma):\n",
    "    return a*np.exp(-(x-mu)**2/(2*sigma**2))"
   ]
  },
  {
   "cell_type": "markdown",
   "metadata": {},
   "source": [
    "### Define a function, with |A| & powerlaw based fit"
   ]
  },
  {
   "cell_type": "code",
   "execution_count": 29,
   "metadata": {},
   "outputs": [],
   "source": [
    "def powerlaw(x, a, b):\n",
    "    return a*np.power(x, b)"
   ]
  },
  {
   "cell_type": "code",
   "execution_count": 37,
   "metadata": {},
   "outputs": [],
   "source": [
    "band_channels = [29,30,31,32,33,34,46,47,48,49,50,51,52,53,54,55,56,57,58,59,78,79,80,81,82,83,84,85,86,87,88,89,90,91,92,93,94,95,102,103,104,105]"
   ]
  },
  {
   "cell_type": "code",
   "execution_count": 43,
   "metadata": {},
   "outputs": [
    {
     "data": {
      "image/png": "[encoded data removed]",
      "text/plain": [
       "<Figure size 432x288 with 1 Axes>"
      ]
     },
     "metadata": {
      "needs_background": "light"
     },
     "output_type": "display_data"
    }
   ],
   "source": [
    "%matplotlib inline\n",
    "x = vims_wave\n",
    "y = spectra_0405\n",
    "\n",
    "custom,_ = curve_fit(powerlaw,x[band_channels],y[band_channels],p0=[.15,-12]) #Only can have two #'s in array, powerlaw() only has 3 args\n",
    "\n",
    "#plt.plot(x,y)\n",
    "plt.plot(x,y-powerlaw(x,*custom))\n",
    "plt.show()"
   ]
  },
  {
   "cell_type": "code",
   "execution_count": 47,
   "metadata": {},
   "outputs": [
    {
     "name": "stdout",
     "output_type": "stream",
     "text": [
      "[(0, 0.88421), (1, 0.90075), (2, 0.91692), (3, 0.93308), (4, 0.9498), (5, 0.96568), (6, 0.98226), (7, 0.99882), (8, 1.01479), (9, 1.03132), (10, 1.04755), (11, 1.06541), (12, 1.08183), (13, 1.09806), (14, 1.11396), (15, 1.13024), (16, 1.14695), (17, 1.1637), (18, 1.17996), (19, 1.19622), (20, 1.21246), (21, 1.22859), (22, 1.24492), (23, 1.26166), (24, 1.27813), (25, 1.29482), (26, 1.31091), (27, 1.32695), (28, 1.34324), (29, 1.35952), (30, 1.37695), (31, 1.39326), (32, 1.4094), (33, 1.42557), (34, 1.44184), (35, 1.45841), (36, 1.47514), (37, 1.49169), (38, 1.50794), (39, 1.52421), (40, 1.54035), (41, 1.55674), (42, 1.57361), (43, 1.59018), (44, 1.60228), (45, 1.62523), (46, 1.6416), (47, 1.65567), (48, 1.67238), (49, 1.68901), (50, 1.70536), (51, 1.72175), (52, 1.73802), (53, 1.75436), (54, 1.77105), (55, 1.78771), (56, 1.80401), (57, 1.82004), (58, 1.83616), (59, 1.85288), (60, 1.86933), (61, 1.88679), (62, 1.90261), (63, 1.91916), (64, 1.93545), (65, 1.95191), (66, 1.96871), (67, 1.98531), (68, 2.00167), (69, 2.01781), (70, 2.03424), (71, 2.05091), (72, 2.06757), (73, 2.084), (74, 2.10034), (75, 2.11667), (76, 2.13337), (77, 2.15018), (78, 2.16652), (79, 2.18288), (80, 2.1992), (81, 2.21591), (82, 2.23282), (83, 2.24952), (84, 2.26622), (85, 2.28238), (86, 2.29921), (87, 2.31612), (88, 2.33325), (89, 2.35043), (90, 2.36765), (91, 2.38472), (92, 2.40156), (93, 2.4182), (94, 2.43471), (95, 2.45097), (96, 2.46723), (97, 2.4836), (98, 2.50002), (99, 2.51659), (100, 2.53292), (101, 2.54916), (102, 2.56437), (103, 2.58176), (104, 2.59807), (105, 2.61508), (106, 2.63), (107, 2.6465), (108, 2.66146), (109, 2.68085), (110, 2.6962), (111, 2.71205), (112, 2.7327), (113, 2.7477), (114, 2.76305), (115, 2.78118), (116, 2.79889), (117, 2.81606), (118, 2.83247), (119, 2.84954), (120, 2.86609), (121, 2.88242), (122, 2.89878), (123, 2.9154), (124, 2.93143), (125, 2.94726), (126, 2.96327), (127, 2.9772), (128, 3.00072), (129, 3.01382), (130, 3.0297), (131, 3.04806), (132, 3.06446), (133, 3.08036), (134, 3.09689), (135, 3.11213), (136, 3.12962), (137, 3.14667), (138, 3.16304), (139, 3.17974), (140, 3.19708), (141, 3.21364), (142, 3.2315), (143, 3.24806), (144, 3.26561), (145, 3.28298), (146, 3.29946), (147, 3.31619), (148, 3.33338), (149, 3.34981), (150, 3.36564), (151, 3.38183), (152, 3.39872), (153, 3.41546), (154, 3.43178), (155, 3.44874), (156, 3.46475), (157, 3.48137), (158, 3.49795), (159, 3.51284), (160, 3.53015), (161, 3.54664), (162, 3.56274), (163, 3.58034), (164, 3.5961), (165, 3.61387), (166, 3.63085), (167, 3.64853), (168, 3.66522), (169, 3.68283), (170, 3.69953), (171, 3.71743), (172, 3.73439), (173, 3.75103), (174, 3.76763), (175, 3.78444), (176, 3.80083), (177, 3.81742), (178, 3.83472), (179, 3.85141), (180, 3.86184), (181, 3.88167), (182, 3.89859), (183, 3.91478), (184, 3.93069), (185, 3.94762), (186, 3.96375), (187, 3.98015), (188, 3.99672), (189, 4.0128), (190, 4.02944), (191, 4.0473), (192, 4.06295), (193, 4.08086), (194, 4.09743), (195, 4.1145), (196, 4.13183), (197, 4.14883), (198, 4.16644), (199, 4.18299), (200, 4.19839), (201, 4.2112), (202, 4.22402), (203, 4.2422), (204, 4.26028), (205, 4.2784), (206, 4.2965), (207, 4.3147), (208, 4.3328), (209, 4.35094), (210, 4.36646), (211, 4.38295), (212, 4.39793), (213, 4.41537), (214, 4.43172), (215, 4.44772), (216, 4.46573), (217, 4.4824), (218, 4.49951), (219, 4.51591), (220, 4.53379), (221, 4.55187), (222, 4.56797), (223, 4.58556), (224, 4.6029), (225, 4.6201), (226, 4.63615), (227, 4.65416), (228, 4.67034), (229, 4.68721), (230, 4.7029), (231, 4.71956), (232, 4.73706), (233, 4.75351), (234, 4.77031), (235, 4.78673), (236, 4.80349), (237, 4.81952), (238, 4.83577), (239, 4.85292), (240, 4.8694), (241, 4.88553), (242, 4.90265), (243, 4.91983), (244, 4.93685), (245, 4.95389), (246, 4.97178), (247, 4.98896), (248, 5.00576), (249, 5.0224), (250, 5.04078), (251, 5.05734), (252, 5.07402), (253, 5.09106), (254, 5.1068), (255, 5.1225)]\n"
     ]
    }
   ],
   "source": [
    "print(list(enumerate(vims_wave))) #1.8 - 2.2 (56-81), fit gaussian to these values, do it for all of them!"
   ]
  },
  {
   "cell_type": "code",
   "execution_count": null,
   "metadata": {},
   "outputs": [],
   "source": []
  }
 ],
 "metadata": {
  "interpreter": {
   "hash": "8003219c8c57211ee3be347d121ba14ebad7276cdae3d94be72d9e4e17f9edd5"
  },
  "kernelspec": {
   "display_name": "Python 3.9.7 ('base')",
   "language": "python",
   "name": "python3"
  },
  "language_info": {
   "codemirror_mode": {
    "name": "ipython",
    "version": 3
   },
   "file_extension": ".py",
   "mimetype": "text/x-python",
   "name": "python",
   "nbconvert_exporter": "python",
   "pygments_lexer": "ipython3",
   "version": "3.9.7"
  },
  "orig_nbformat": 4
 },
 "nbformat": 4,
 "nbformat_minor": 2
}
