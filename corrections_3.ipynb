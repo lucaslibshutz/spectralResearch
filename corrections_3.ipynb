{
 "cells": [
  {
   "cell_type": "markdown",
   "metadata": {},
   "source": [
    "#### No powerlaw removal on this notebook"
   ]
  },
  {
   "cell_type": "code",
   "execution_count": 1,
   "metadata": {},
   "outputs": [],
   "source": [
    "import numpy as np\n",
    "import pandas as pd\n",
    "import matplotlib.pyplot as plt\n",
    "from matplotlib.pyplot import figure\n",
    "from scipy.optimize import curve_fit\n",
    "from scipy.signal import find_peaks\n",
    "from itertools import chain\n",
    "from sys import platform\n",
    "from copy import deepcopy as dc\n",
    "from scipy.interpolate import interp1d\n",
    "from astropy.time import Time\n",
    "\n",
    "vims_wave = np.loadtxt('vims_wave.txt')\n",
    "\n",
    "new_array = ['_0405','_0607','_0809','_1011','_1213','_1415','_1617']\n",
    "if platform == 'darwin' or platform == 'win32' or platform == 'linux':\n",
    "    for number in new_array:\n",
    "        new_string = 'df'+number+' = pd.read_pickle(\"total_data/data'+number+'.pkl\")'\n",
    "        exec(new_string)\n",
    "else:\n",
    "    df_list = []\n",
    "    for number in new_array:\n",
    "        new_string = 'df'+number+' = pd.read_csv(\"total_data/data'+number+'.csv\")'\n",
    "        exec(new_string)\n",
    "        df_list.append(locals()['df'+number])\n",
    "    for df in df_list:\n",
    "        for i in range(len(df['spectrum'])):\n",
    "            df['spectrum'][i] = np.array([float(x) for x in df['spectrum'][i][1:-1].split(',')])\n",
    "\n",
    "vims_list = []\n",
    "for i in range(4,18):\n",
    "    if i<10:\n",
    "        exec('vims_200'+str(i)+' = np.load(\"vims_shift/vims_200'+str(i)+'.npy\")')\n",
    "        vims_list.append(locals()['vims_200'+str(i)])\n",
    "    else:\n",
    "        exec('vims_20'+str(i)+' = np.load(\"vims_shift/vims_20'+str(i)+'.npy\")')\n",
    "        vims_list.append(locals()['vims_20'+str(i)])\n",
    "\n",
    "def powerlaw(x,a,b):\n",
    "    return a*np.power(x,b)\n",
    "\n",
    "def gaussian(x,a,mu,sigma):\n",
    "    return a*np.exp(-(x-mu)**2/(2*sigma**2))\n",
    "\n",
    "def flatten(some_list):\n",
    "    flat_list = []\n",
    "    for element in some_list:\n",
    "        if type(element) is list or type(element) is tuple:\n",
    "            for item in element:\n",
    "                flat_list.append(item)\n",
    "        else:\n",
    "            flat_list.append(element)\n",
    "    return flat_list\n",
    "\n",
    "band_channels = list(chain(range(29,35),range(46,60),range(78,96),range(102,106)))\n",
    "\n",
    "window = list(range(56,83))\n",
    "\n",
    "def fit_line(dataframe):\n",
    "    spectra = np.average(dataframe)\n",
    "    my_fit,_ = curve_fit(powerlaw,vims_wave[band_channels],spectra[band_channels],p0=[.15,-12])\n",
    "    final_fit = powerlaw(vims_wave,*my_fit)\n",
    "    return final_fit\n",
    "\n",
    "def custom_fit(dataframe):\n",
    "    spectra = np.average(dataframe)\n",
    "    my_fit,_ = curve_fit(powerlaw,vims_wave[band_channels],spectra[band_channels],p0=[.15,-12])\n",
    "    final_spectra = spectra-powerlaw(vims_wave,*my_fit)\n",
    "    return final_spectra\n",
    "\n",
    "def single_fit(spectrum):\n",
    "    my_fit,_ = curve_fit(powerlaw,vims_wave[band_channels],spectrum[band_channels],p0=[.15,-12])\n",
    "    final_spectrum = spectrum-powerlaw(vims_wave,*my_fit)\n",
    "    return final_spectrum\n",
    "\n",
    "def shift_ret(spectrum):\n",
    "    my_fit,_ = curve_fit(gaussian,vims_wave[window],spectrum[window],p0=[.05,2.05])\n",
    "    return my_fit[1]"
   ]
  },
  {
   "cell_type": "code",
   "execution_count": 2,
   "metadata": {},
   "outputs": [],
   "source": [
    "scatter_list = []\n",
    "for number in new_array:\n",
    "    my_string = 'scatter'+number+\" = df\"+number\n",
    "    exec(my_string)\n",
    "    scatter_list.append(locals()['scatter'+number])\n",
    "\n",
    "airmass_data = pd.concat(scatter_list,ignore_index=True)\n",
    "\n",
    "all_spectra = airmass_data['spectrum']\n",
    "\n",
    "airmass_data['emission'] *= (np.pi)/180\n",
    "airmass_data['incidence'] *= (np.pi)/180\n",
    "\n",
    "spec_list = []\n",
    "for number in new_array:\n",
    "    my_string = 'old_spec'+number+' = df'+number+\"['spectrum']\"\n",
    "    exec(my_string)\n",
    "    new_string = 'spec'+number+' = np.array([np.abs(x) for x in old_spec'+number+'])'\n",
    "    exec(new_string)\n",
    "    spec = 'spec'+number\n",
    "    spec_list.append(locals()[spec])\n",
    "\n",
    "averaged_list = []\n",
    "for number in new_array:\n",
    "    my_string = 'averaged'+number+' = np.average(spec'+number+',axis=0)'\n",
    "    exec(my_string)\n",
    "    averaged_list.append(locals()['averaged'+number])\n",
    "\n",
    "copy_list = []\n",
    "for number in new_array:\n",
    "    my_string = 'copy_spec'+number+' = dc(spec'+number+')'\n",
    "    exec(my_string)\n",
    "    copy_spec = 'copy_spec'+number\n",
    "    copy_list.append(locals()[copy_spec])\n",
    "\n",
    "copy_list_total = []\n",
    "for (spec,copy_spec) in zip(spec_list,copy_list):\n",
    "    for i in range(256):\n",
    "        filtered = False\n",
    "        k = 0\n",
    "        while filtered == False:\n",
    "            mean_1 = np.mean(copy_spec[:,i])\n",
    "            median = np.median(copy_spec[:,i])\n",
    "            std = np.std(copy_spec[:,i])\n",
    "            vals = copy_spec[:,i]\n",
    "            ind = np.where(np.abs(vals-mean_1)>2*std)\n",
    "            copy_spec[ind,i] = median\n",
    "            mean_2 = np.mean(copy_spec[:,i])\n",
    "            k += 1\n",
    "            if np.abs(mean_1-mean_2) <=.05*mean_1:\n",
    "                filtered = True\n",
    "    for spectrum in copy_spec:\n",
    "        copy_list_total.append(spectrum)\n",
    "\n",
    "\n",
    "wave_array = [\n",
    "(2.64,2.78,2.83,1.14),\n",
    "(1.95,2.03,2.13,1.29),\n",
    "(1.49,1.59,1.65,1.60),\n",
    "(1.22,1.27,1.32,1.50),\n",
    "(1.03,1.08,1.19,1.15)\n",
    "]\n",
    "\n",
    "channels = [12,24,43,70,115,248]\n",
    "    \n",
    "airmass_data['spectrum'] = copy_list_total\n",
    "\n",
    "i_data = dc(airmass_data)\n",
    "\n",
    "values = []\n",
    "for spectrum in airmass_data['spectrum']:\n",
    "    values.append(spectrum[channels])\n",
    "values = np.asarray(values)"
   ]
  },
  {
   "cell_type": "markdown",
   "metadata": {},
   "source": [
    "### Tells us that Cos(i) correction is more uniform"
   ]
  },
  {
   "cell_type": "code",
   "execution_count": null,
   "metadata": {},
   "outputs": [],
   "source": [
    "%matplotlib inline\n",
    "fig,axs = plt.subplots(6,2,figsize=(10,20),facecolor='white')\n",
    "for i in range(6):\n",
    "    axs[i,0].plot(np.cos(airmass_data['incidence']),values[:,i],'.')\n",
    "    axs[i,0].set_title(str(vims_2004[channels[i]])+' µm')\n",
    "    axs[i,0].set_xlim([0,1])\n",
    "    axs[i,0].set_ylim([0,0.2])\n",
    "    axs[i,1].plot((np.cos(airmass_data['incidence']))/(np.cos(airmass_data['incidence'])+np.cos(airmass_data['emission'])),values[:,i],'.')\n",
    "    axs[i,1].set_xlim([0,0.8])\n",
    "    axs[i,1].set_ylim([0,0.2])\n",
    "plt.show()"
   ]
  },
  {
   "cell_type": "code",
   "execution_count": 3,
   "metadata": {},
   "outputs": [],
   "source": [
    "i_data['spectrum'] /= np.cos(i_data['incidence'])\n",
    "\n",
    "airmass_data['spectrum'] = (airmass_data['spectrum']*np.cos(airmass_data['incidence']))/((np.cos(airmass_data['incidence'])+np.cos(airmass_data['emission'])))"
   ]
  },
  {
   "cell_type": "code",
   "execution_count": 4,
   "metadata": {},
   "outputs": [],
   "source": [
    "shift_dates = [\n",
    "'2004-01-01T00:00:00.00',\n",
    "'2005-01-01T00:00:00.00',\n",
    "'2005-07-01T00:00:00.00',\n",
    "'2006-01-01T00:00:00.00',\n",
    "'2006-07-01T00:00:00.00',\n",
    "'2007-01-01T00:00:00.00',\n",
    "'2007-07-01T00:00:00.00',\n",
    "'2008-01-01T00:00:00.00',\n",
    "'2008-07-01T00:00:00.00',\n",
    "'2009-01-01T00:00:00.00',\n",
    "'2009-07-01T00:00:00.00',\n",
    "'2010-01-01T00:00:00.00',\n",
    "'2010-07-01T00:00:00.00',\n",
    "'2011-01-01T00:00:00.00',\n",
    "'2011-07-01T00:00:00.00',\n",
    "'2012-01-01T00:00:00.00',\n",
    "'2012-07-01T00:00:00.00',\n",
    "'2013-01-01T00:00:00.00',\n",
    "'2013-07-01T00:00:00.00',\n",
    "'2014-01-01T00:00:00.00',\n",
    "'2014-04-19T00:00:00.00',\n",
    "'2014-07-01T00:00:00.00',\n",
    "'2015-01-01T00:00:00.00',\n",
    "'2015-07-01T00:00:00.00',\n",
    "'2016-01-01T00:00:00.00',\n",
    "'2016-07-01T00:00:00.00',\n",
    "'2017-01-01T00:00:00.00',\n",
    "'2017-07-01T00:00:00.00',\n",
    "'2017-10-19T00:00:00.00',\n",
    "]\n",
    "\n",
    "shift_vals = [0.0,0.0,0.4,1.1,1.9,2.6,3.4,4.1,4.9,5.6,6.0,6.0,6.0,6.0,7.0,7.3,7.7,8.0,8.4,8.7,9.1,9.1,9.2,9.3,9.4,9.5,9.6,9.7,9.8]"
   ]
  },
  {
   "cell_type": "code",
   "execution_count": 5,
   "metadata": {},
   "outputs": [],
   "source": [
    "date_vector = Time(shift_dates,format='isot').jd\n",
    "\n",
    "date_interp = interp1d(date_vector,shift_vals)"
   ]
  },
  {
   "cell_type": "code",
   "execution_count": 6,
   "metadata": {},
   "outputs": [],
   "source": [
    "all_shifts = date_interp(list(airmass_data['starttime'])) # shifts are the same across both dataframes\n",
    "all_shifts = all_shifts/1000 # converts units properly"
   ]
  },
  {
   "cell_type": "code",
   "execution_count": 8,
   "metadata": {},
   "outputs": [
    {
     "data": {
      "text/plain": [
       "0        [0.029593490087438435, 0.036433731578401254, 0...\n",
       "1        [0.03047177185600079, 0.03729016768442169, 0.0...\n",
       "2        [0.03296191963367724, 0.04030084088657958, 0.0...\n",
       "3        [0.03302971102718661, 0.0413389996748212, 0.06...\n",
       "4        [0.03064159051804251, 0.03852321952761688, 0.0...\n",
       "                               ...                        \n",
       "12650    [0.031593196896409804, 0.05396282356920079, 0....\n",
       "12651    [0.03014913633357658, 0.051169037729853706, 0....\n",
       "12652    [0.03055939083403116, 0.05128033770319372, 0.0...\n",
       "12653    [0.03150870043026201, 0.05373852740106382, 0.0...\n",
       "12654    [0.029342484719819473, 0.05017131251806052, 0....\n",
       "Name: spectrum, Length: 12655, dtype: object"
      ]
     },
     "execution_count": 8,
     "metadata": {},
     "output_type": "execute_result"
    }
   ],
   "source": [
    "type(airmass_data['spectrum']"
   ]
  },
  {
   "cell_type": "code",
   "execution_count": null,
   "metadata": {},
   "outputs": [],
   "source": [
    "%%capture --no-display\n",
    "\n",
    "for i in range(len(airmass_data['spectrum'])):\n",
    "    f1 = interp1d(vims_2004+all_shifts[i],airmass_data['spectrum'][i],kind='linear',fill_value='extrapolate')\n",
    "    xnew = np.linspace(vims_2004[0]+all_shifts[i],vims_2004[255]+all_shifts[i],num=25600,endpoint=True)\n",
    "    airmass_data['spectrum'][i] = f1(xnew)\n",
    "\n",
    "for i in range(len(i_data['spectrum'])):\n",
    "    f1 = interp1d(vims_2004+all_shifts[i],i_data['spectrum'][i],kind='linear',fill_value='extrapolate')\n",
    "    xnew = np.linspace(vims_2004[0]+all_shifts[i],vims_2004[255]+all_shifts[i],num=25600,endpoint=True)\n",
    "    i_data['spectrum'][i] = f1(xnew)"
   ]
  },
  {
   "cell_type": "code",
   "execution_count": null,
   "metadata": {},
   "outputs": [],
   "source": [
    "air_list = []\n",
    "inc_list = []\n",
    "for year in range(2004,2018):\n",
    "    start_date = Time(str(year)+'-01-01T00:00:00.00',format='isot').jd\n",
    "    end_date = Time(str(year+1)+'-01-01T00:00:00.00',format='isot').jd\n",
    "    ind = np.where((airmass_data['starttime'] >= start_date) & (airmass_data['starttime'] <= end_date))[0]\n",
    "    if len(ind) != 0:\n",
    "        a1 = np.average(airmass_data['spectrum'][ind])\n",
    "        a2 = np.average(i_data['spectrum'][ind])\n",
    "        air_list.append(a1)\n",
    "        inc_list.append(a2)"
   ]
  },
  {
   "cell_type": "code",
   "execution_count": null,
   "metadata": {},
   "outputs": [],
   "source": [
    "%matplotlib inline\n",
    "fig,axs = plt.subplots(1,2,figsize=(25,8),facecolor='white',sharex=True,sharey=True)\n",
    "for i in range(len(air_list)):\n",
    "    axs[0].plot(xnew,air_list[i])\n",
    "for i in range(len(inc_list)):\n",
    "    axs[1].plot(xnew,inc_list[i])"
   ]
  },
  {
   "cell_type": "code",
   "execution_count": null,
   "metadata": {},
   "outputs": [],
   "source": [
    "%matplotlib inline\n",
    "plt.figure(facecolor='white',figsize=(12,8))\n",
    "\n",
    "average = np.average(airmass_data['spectrum'],axis=0)\n",
    "ethane = np.load('ethane.npy')\n",
    "\n",
    "plt.plot(xnew,average)\n",
    "plt.plot(vims_2004,spec_0405[1])\n",
    "plt.plot(ethane[:,0],ethane[:,14]/1000)\n",
    "plt.grid()\n",
    "plt.show()"
   ]
  },
  {
   "cell_type": "code",
   "execution_count": null,
   "metadata": {},
   "outputs": [],
   "source": [
    "%matplotlib inline\n",
    "plt.figure(facecolor='white',figsize=(12,8))\n",
    "\n",
    "for i in range(len(all_spectra[::10])):\n",
    "    plt.plot(vims_wave,np.abs(all_spectra[i*10]),c='blue')\n",
    "for i in range(len(airmass_data['spectrum'][::10])):\n",
    "    plt.plot(xnew,airmass_data['spectrum'][i*10],c='red')\n",
    "\n",
    "plt.xlim([1.95,2.1])\n",
    "plt.ylim([0,0.15])\n",
    "plt.grid()\n",
    "plt.show()"
   ]
  }
 ],
 "metadata": {
  "kernelspec": {
   "display_name": "Python 3.9.12 ('base')",
   "language": "python",
   "name": "python3"
  },
  "language_info": {
   "codemirror_mode": {
    "name": "ipython",
    "version": 3
   },
   "file_extension": ".py",
   "mimetype": "text/x-python",
   "name": "python",
   "nbconvert_exporter": "python",
   "pygments_lexer": "ipython3",
   "version": "3.9.12"
  },
  "orig_nbformat": 4,
  "vscode": {
   "interpreter": {
    "hash": "6c01efea219ea0303b6e6cd1897665114cc62146ed112ea21ec489238fdae255"
   }
  }
 },
 "nbformat": 4,
 "nbformat_minor": 2
}
