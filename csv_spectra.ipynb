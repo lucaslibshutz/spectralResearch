{
 "cells": [
  {
   "cell_type": "code",
   "execution_count": 45,
   "id": "28ac6312",
   "metadata": {},
   "outputs": [],
   "source": [
    "import numpy as np\n",
    "from matplotlib import pyplot as plt\n",
    "from matplotlib.pyplot import figure\n",
    "import pandas as pd"
   ]
  },
  {
   "cell_type": "code",
   "execution_count": 3,
   "id": "b51dbe8a",
   "metadata": {},
   "outputs": [],
   "source": [
    "df_0405 = pd.read_csv('boxC/boxC_0405_refined.csv')\n",
    "df_0607 = pd.read_csv('boxA/boxA_0607_refined.csv')\n",
    "df_0809 = pd.read_csv('boxD/boxD_0809.csv')\n",
    "df_1011 = pd.read_csv('boxA/boxA_1011.csv')\n",
    "df_1213 = pd.read_csv('boxD/boxD_1213.csv')\n",
    "df_1415 = pd.read_csv('boxE/boxE_1415.csv')\n",
    "df_1617 = pd.read_csv('boxC/boxC_1617.csv')\n",
    "\n",
    "vims_wave = np.loadtxt('vims_wave.txt')"
   ]
  },
  {
   "cell_type": "code",
   "execution_count": 4,
   "id": "c1d61d76",
   "metadata": {},
   "outputs": [],
   "source": [
    "%%capture --no-display\n",
    "for df in (df_0405,df_0607,df_0809,df_1011,df_1213,df_1415,df_1617):\n",
    "    for i in range(len(df['spectrum'])):\n",
    "        df['spectrum'][i] = np.array([float(x) for x in df['spectrum'][i][1:-1].split(',')])"
   ]
  },
  {
   "cell_type": "code",
   "execution_count": 5,
   "id": "d2e3f3de",
   "metadata": {},
   "outputs": [],
   "source": [
    "spectra_0405 = np.average(np.asarray(df_0405['spectrum']))\n",
    "spectra_0607 = np.average(np.asarray(df_0607['spectrum']))\n",
    "spectra_0809 = np.average(np.asarray(df_0809['spectrum']))\n",
    "spectra_1011 = np.average(np.asarray(df_1011['spectrum']))\n",
    "spectra_1213 = np.average(np.asarray(df_1213['spectrum']))\n",
    "spectra_1415 = np.average(np.asarray(df_1415['spectrum']))\n",
    "spectra_1617 = np.average(np.asarray(df_1617['spectrum']))"
   ]
  },
  {
   "cell_type": "code",
   "execution_count": 6,
   "id": "b54706c1",
   "metadata": {},
   "outputs": [],
   "source": [
    "spectra_list = [spectra_0405,spectra_0607,spectra_0809,spectra_1011,spectra_1213,spectra_1415,spectra_1617]"
   ]
  },
  {
   "cell_type": "markdown",
   "id": "71df0cc1",
   "metadata": {},
   "source": [
    "## Fitting third degree curve to spectra (dependent on what variable is inserted as a spectra)"
   ]
  },
  {
   "cell_type": "code",
   "execution_count": 23,
   "id": "7f2822a7",
   "metadata": {},
   "outputs": [
    {
     "data": {
      "image/png": "[encoded data removed]",
      "text/plain": [
       "<Figure size 432x288 with 1 Axes>"
      ]
     },
     "metadata": {
      "needs_background": "light"
     },
     "output_type": "display_data"
    }
   ],
   "source": [
    "%matplotlib inline\n",
    "x = vims_wave\n",
    "y = spectra_0607\n",
    "p = np.polyval(np.polyfit(x,y,8),x)\n",
    "plt.plot(x,np.abs(y))\n",
    "plt.plot(x,p,c='r')\n",
    "plt.ylabel('I/F')\n",
    "plt.show()"
   ]
  },
  {
   "cell_type": "markdown",
   "id": "6fa36f10",
   "metadata": {},
   "source": [
    "## Finding how many negative values are in each spectra"
   ]
  },
  {
   "cell_type": "code",
   "execution_count": 18,
   "id": "f1f06a6e",
   "metadata": {},
   "outputs": [
    {
     "name": "stdout",
     "output_type": "stream",
     "text": [
      "150\n",
      "0\n",
      "128\n",
      "0\n",
      "0\n",
      "0\n",
      "0\n"
     ]
    }
   ],
   "source": [
    "for spectra in spectra_list:\n",
    "    k = 0\n",
    "    for number in spectra:\n",
    "        if number <= 0:\n",
    "            k += 1\n",
    "    print(k)\n",
    "    \n",
    "## only spectra_0405 & spectra_0809 contain negative values"
   ]
  },
  {
   "cell_type": "markdown",
   "id": "82b12ad8",
   "metadata": {},
   "source": [
    "### Only dataframes from 2004-2005 and 2008-2009 have negative values in them - why? Is this fixable?"
   ]
  },
  {
   "cell_type": "code",
   "execution_count": 35,
   "id": "b38e2dd4",
   "metadata": {},
   "outputs": [
    {
     "name": "stdout",
     "output_type": "stream",
     "text": [
      "10505\n"
     ]
    }
   ],
   "source": [
    "k1 = 0\n",
    "# boxC_0405 all negative values within dataframe\n",
    "for spectrum in df_0405['spectrum']:\n",
    "    for number in spectrum:\n",
    "        if number <= 0:\n",
    "            k1 += 1\n",
    "print(k1)\n"
   ]
  },
  {
   "cell_type": "code",
   "execution_count": 34,
   "id": "7943820e",
   "metadata": {},
   "outputs": [
    {
     "name": "stdout",
     "output_type": "stream",
     "text": [
      "11743\n"
     ]
    }
   ],
   "source": [
    "k2 = 0\n",
    "# boxD_0809 all negative values within dataframe\n",
    "for spectrum in df_0809['spectrum']:\n",
    "    for number in spectrum:\n",
    "        if number <= 0:\n",
    "            k2 += 1\n",
    "print(k2)"
   ]
  },
  {
   "cell_type": "code",
   "execution_count": 36,
   "id": "11edd1f2",
   "metadata": {},
   "outputs": [
    {
     "name": "stdout",
     "output_type": "stream",
     "text": [
      "632567\n"
     ]
    }
   ],
   "source": [
    "n1 = 0\n",
    "# boxC_0405 all positive values within dataframe\n",
    "for spectrum in df_0405['spectrum']:\n",
    "    for number in spectrum:\n",
    "        if number > 0:\n",
    "            n1 += 1\n",
    "print(n1)"
   ]
  },
  {
   "cell_type": "code",
   "execution_count": 44,
   "id": "36aff994",
   "metadata": {},
   "outputs": [
    {
     "name": "stdout",
     "output_type": "stream",
     "text": [
      "227105\n"
     ]
    }
   ],
   "source": [
    "n2 = 0\n",
    "# boxD_0809 all positive values within dataframe\n",
    "for spectrum in df_0809['spectrum']:\n",
    "    for number in spectrum:\n",
    "        if number > 0:\n",
    "            n2 += 1\n",
    "print(n2)"
   ]
  },
  {
   "cell_type": "code",
   "execution_count": null,
   "id": "1601a6e5",
   "metadata": {},
   "outputs": [],
   "source": []
  }
 ],
 "metadata": {
  "kernelspec": {
   "display_name": "Python 3 (ipykernel)",
   "language": "python",
   "name": "python3"
  },
  "language_info": {
   "codemirror_mode": {
    "name": "ipython",
    "version": 3
   },
   "file_extension": ".py",
   "mimetype": "text/x-python",
   "name": "python",
   "nbconvert_exporter": "python",
   "pygments_lexer": "ipython3",
   "version": "3.9.7"
  }
 },
 "nbformat": 4,
 "nbformat_minor": 5
}
