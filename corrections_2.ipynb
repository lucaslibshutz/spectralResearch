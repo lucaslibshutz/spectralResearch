{
 "cells": [
  {
   "cell_type": "code",
   "execution_count": 1,
   "metadata": {},
   "outputs": [],
   "source": [
    "import numpy as np\n",
    "import pandas as pd\n",
    "import matplotlib.pyplot as plt\n",
    "from matplotlib.pyplot import figure\n",
    "from scipy.optimize import curve_fit\n",
    "from scipy.signal import find_peaks\n",
    "from itertools import chain\n",
    "from sys import platform\n",
    "from copy import deepcopy as dc\n",
    "from scipy.interpolate import interp1d\n",
    "from astropy.time import Time\n",
    "\n",
    "vims_wave = np.loadtxt('vims_wave.txt')\n",
    "\n",
    "new_array = ['_0405','_0607','_0809','_1011','_1213','_1415','_1617']\n",
    "if platform == 'darwin' or platform == 'win32' or platform == 'linux':\n",
    "    for number in new_array:\n",
    "        new_string = 'df'+number+' = pd.read_pickle(\"total_data/data'+number+'.pkl\")'\n",
    "        exec(new_string)\n",
    "else:\n",
    "    df_list = []\n",
    "    for number in new_array:\n",
    "        new_string = 'df'+number+' = pd.read_csv(\"total_data/data'+number+'.csv\")'\n",
    "        exec(new_string)\n",
    "        df_list.append(locals()['df'+number])\n",
    "    for df in df_list:\n",
    "        for i in range(len(df['spectrum'])):\n",
    "            df['spectrum'][i] = np.array([float(x) for x in df['spectrum'][i][1:-1].split(',')])\n",
    "\n",
    "vims_list = []\n",
    "for i in range(4,18):\n",
    "    if i<10:\n",
    "        exec('vims_200'+str(i)+' = np.load(\"vims_shift/vims_200'+str(i)+'.npy\")')\n",
    "        vims_list.append(locals()['vims_200'+str(i)])\n",
    "    else:\n",
    "        exec('vims_20'+str(i)+' = np.load(\"vims_shift/vims_20'+str(i)+'.npy\")')\n",
    "        vims_list.append(locals()['vims_20'+str(i)])\n",
    "\n",
    "def powerlaw(x,a,b):\n",
    "    return a*np.power(x,b)\n",
    "\n",
    "def gaussian(x,a,mu,sigma):\n",
    "    return a*np.exp(-(x-mu)**2/(2*sigma**2))\n",
    "\n",
    "def flatten(some_list):\n",
    "    flat_list = []\n",
    "    for element in some_list:\n",
    "        if type(element) is list or type(element) is tuple:\n",
    "            for item in element:\n",
    "                flat_list.append(item)\n",
    "        else:\n",
    "            flat_list.append(element)\n",
    "    return flat_list\n",
    "\n",
    "band_channels = list(chain(range(29,35),range(46,60),range(78,96),range(102,106)))\n",
    "\n",
    "window = list(range(56,83))\n",
    "\n",
    "def fit_line(dataframe):\n",
    "    spectra = np.average(dataframe)\n",
    "    my_fit,_ = curve_fit(powerlaw,vims_wave[band_channels],spectra[band_channels],p0=[.15,-12])\n",
    "    final_fit = powerlaw(vims_wave,*my_fit)\n",
    "    return final_fit\n",
    "\n",
    "def custom_fit(dataframe):\n",
    "    spectra = np.average(dataframe)\n",
    "    my_fit,_ = curve_fit(powerlaw,vims_wave[band_channels],spectra[band_channels],p0=[.15,-12])\n",
    "    final_spectra = spectra-powerlaw(vims_wave,*my_fit)\n",
    "    return final_spectra\n",
    "\n",
    "def single_fit(spectrum):\n",
    "    my_fit,_ = curve_fit(powerlaw,vims_wave[band_channels],spectrum[band_channels],p0=[.15,-12])\n",
    "    final_spectrum = spectrum-powerlaw(vims_wave,*my_fit)\n",
    "    return final_spectrum\n",
    "\n",
    "def shift_ret(spectrum):\n",
    "    my_fit,_ = curve_fit(gaussian,vims_wave[window],spectrum[window],p0=[.05,2.05])\n",
    "    return my_fit[1]"
   ]
  },
  {
   "cell_type": "code",
   "execution_count": 2,
   "metadata": {},
   "outputs": [
    {
     "name": "stderr",
     "output_type": "stream",
     "text": [
      "C:\\Users\\lucas\\AppData\\Local\\Temp/ipykernel_12488/3357091760.py:61: SettingWithCopyWarning: \n",
      "A value is trying to be set on a copy of a slice from a DataFrame\n",
      "\n",
      "See the caveats in the documentation: https://pandas.pydata.org/pandas-docs/stable/user_guide/indexing.html#returning-a-view-versus-a-copy\n",
      "  total_scatter['spectrum'][i] = pList_total[i]\n"
     ]
    }
   ],
   "source": [
    "scatter_list = []\n",
    "for number in new_array:\n",
    "    my_string = 'scatter'+number+\" = df\"+number\n",
    "    exec(my_string)\n",
    "    scatter_list.append(locals()['scatter'+number])\n",
    "\n",
    "total_scatter = pd.concat(scatter_list,ignore_index=True)\n",
    "\n",
    "all_spectra = total_scatter['spectrum']\n",
    "\n",
    "averaged_total = np.average(all_spectra)\n",
    "\n",
    "spec_list = []\n",
    "for number in new_array:\n",
    "    my_string = 'old_spec'+number+' = df'+number+\"['spectrum']\"\n",
    "    exec(my_string)\n",
    "    new_string = 'spec'+number+' = np.array([np.abs(x) for x in old_spec'+number+'])'\n",
    "    exec(new_string)\n",
    "    spec = 'spec'+number\n",
    "    spec_list.append(locals()[spec])\n",
    "\n",
    "averaged_list = []\n",
    "for number in new_array:\n",
    "    my_string = 'averaged'+number+' = np.average(spec'+number+',axis=0)'\n",
    "    exec(my_string)\n",
    "    averaged_list.append(locals()['averaged'+number])\n",
    "\n",
    "copy_list = []\n",
    "for number in new_array:\n",
    "    my_string = 'copy_spec'+number+' = dc(spec'+number+')'\n",
    "    exec(my_string)\n",
    "    copy_spec = 'copy_spec'+number\n",
    "    copy_list.append(locals()[copy_spec])\n",
    "\n",
    "for (spec,copy_spec) in zip(spec_list,copy_list):\n",
    "    for i in range(256):\n",
    "        filtered = False\n",
    "        k = 0\n",
    "        while filtered == False:\n",
    "            mean_1 = np.mean(copy_spec[:,i])\n",
    "            median = np.median(copy_spec[:,i])\n",
    "            std = np.std(copy_spec[:,i])\n",
    "            vals = copy_spec[:,i]\n",
    "            ind = np.where(np.abs(vals-mean_1)>2*std)\n",
    "            copy_spec[ind,i] = median\n",
    "            mean_2 = np.mean(copy_spec[:,i])\n",
    "            k += 1\n",
    "            if np.abs(mean_1-mean_2) <=.05*mean_1:\n",
    "                filtered = True\n",
    "\n",
    "pList_total = []\n",
    "for (copy_spec,number) in zip(copy_list,new_array):\n",
    "    exec('pList'+number+' = []')\n",
    "    for spec in copy_spec:\n",
    "        new_spec = single_fit(spec)\n",
    "        final_spec = np.abs(new_spec)\n",
    "        locals()['pList'+number].append(final_spec)\n",
    "    pList_total = pList_total + locals()['pList'+number]\n",
    "\n",
    "for i in range(len(total_scatter['spectrum'])):\n",
    "    total_scatter['spectrum'][i] = pList_total[i]"
   ]
  },
  {
   "cell_type": "code",
   "execution_count": 3,
   "metadata": {},
   "outputs": [],
   "source": [
    "shift_dates = [\n",
    "'2004-01-01T00:00:00.00',\n",
    "'2005-01-01T00:00:00.00',\n",
    "'2005-07-01T00:00:00.00',\n",
    "'2006-01-01T00:00:00.00',\n",
    "'2006-07-01T00:00:00.00',\n",
    "'2007-01-01T00:00:00.00',\n",
    "'2007-07-01T00:00:00.00',\n",
    "'2008-01-01T00:00:00.00',\n",
    "'2008-07-01T00:00:00.00',\n",
    "'2009-01-01T00:00:00.00',\n",
    "'2009-07-01T00:00:00.00',\n",
    "'2010-01-01T00:00:00.00',\n",
    "'2010-07-01T00:00:00.00',\n",
    "'2011-01-01T00:00:00.00',\n",
    "'2011-07-01T00:00:00.00',\n",
    "'2012-01-01T00:00:00.00',\n",
    "'2012-07-01T00:00:00.00',\n",
    "'2013-01-01T00:00:00.00',\n",
    "'2013-07-01T00:00:00.00',\n",
    "'2014-01-01T00:00:00.00',\n",
    "'2014-04-19T00:00:00.00',\n",
    "'2014-07-01T00:00:00.00',\n",
    "'2015-01-01T00:00:00.00',\n",
    "'2015-07-01T00:00:00.00',\n",
    "'2016-01-01T00:00:00.00',\n",
    "'2016-07-01T00:00:00.00',\n",
    "'2017-01-01T00:00:00.00',\n",
    "'2017-07-01T00:00:00.00',\n",
    "'2017-10-19T00:00:00.00',\n",
    "]\n",
    "\n",
    "shift_vals = [0.0,0.0,0.4,1.1,1.9,2.6,3.4,4.1,4.9,5.6,6.0,6.0,6.0,6.0,7.0,7.3,7.7,8.0,8.4,8.7,9.1,9.1,9.2,9.3,9.4,9.5,9.6,9.7,9.8]"
   ]
  },
  {
   "cell_type": "code",
   "execution_count": 4,
   "metadata": {},
   "outputs": [],
   "source": [
    "date_vector = Time(shift_dates,format='isot').jd\n",
    "\n",
    "date_interp = interp1d(date_vector,shift_vals)"
   ]
  },
  {
   "cell_type": "code",
   "execution_count": 5,
   "metadata": {},
   "outputs": [],
   "source": [
    "all_shifts = date_interp(list(total_scatter['starttime']))"
   ]
  },
  {
   "cell_type": "code",
   "execution_count": 7,
   "metadata": {},
   "outputs": [
    {
     "name": "stderr",
     "output_type": "stream",
     "text": [
      "C:\\Users\\lucas\\AppData\\Local\\Temp/ipykernel_12488/2402781604.py:7: SettingWithCopyWarning: \n",
      "A value is trying to be set on a copy of a slice from a DataFrame\n",
      "\n",
      "See the caveats in the documentation: https://pandas.pydata.org/pandas-docs/stable/user_guide/indexing.html#returning-a-view-versus-a-copy\n",
      "  total_scatter['spectrum'][i] = final_spectrum\n"
     ]
    },
    {
     "data": {
      "text/plain": [
       "<Figure size 864x576 with 0 Axes>"
      ]
     },
     "metadata": {},
     "output_type": "display_data"
    }
   ],
   "source": [
    "%matplotlib inline\n",
    "plt.figure(facecolor='white',figsize=(12,8))\n",
    "for i in range(len(total_scatter['spectrum'])):\n",
    "    f1 = interp1d(vims_2004+all_shifts[i],total_scatter['spectrum'][i],kind='linear',fill_value='extrapolate')\n",
    "    xnew = np.linspace(vims_2004[0]+all_shifts[i],vims_2004[255]+all_shifts[i],num=2560,endpoint=True)\n",
    "    final_spectrum = f1(xnew)\n",
    "    total_scatter['spectrum'][i] = final_spectrum"
   ]
  },
  {
   "cell_type": "code",
   "execution_count": 8,
   "metadata": {},
   "outputs": [],
   "source": [
    "average = np.average(total_scatter['spectrum'],axis=0)"
   ]
  },
  {
   "cell_type": "code",
   "execution_count": 11,
   "metadata": {},
   "outputs": [
    {
     "data": {
      "image/png": "[encoded data removed]",
      "text/plain": [
       "<Figure size 864x576 with 1 Axes>"
      ]
     },
     "metadata": {},
     "output_type": "display_data"
    }
   ],
   "source": [
    "%matplotlib inline\n",
    "plt.figure(facecolor='white',figsize=(12,8))\n",
    "\n",
    "plt.plot(average)\n",
    "plt.xlim([300,500])\n",
    "plt.grid()\n",
    "plt.show()"
   ]
  },
  {
   "cell_type": "code",
   "execution_count": null,
   "metadata": {},
   "outputs": [],
   "source": []
  }
 ],
 "metadata": {
  "interpreter": {
   "hash": "665796ea3363072d3a6057ac2fdbe3c4fcb0d17a4b92295d9707f78e9c46c0af"
  },
  "kernelspec": {
   "display_name": "Python 3.9.7 ('base')",
   "language": "python",
   "name": "python3"
  },
  "language_info": {
   "codemirror_mode": {
    "name": "ipython",
    "version": 3
   },
   "file_extension": ".py",
   "mimetype": "text/x-python",
   "name": "python",
   "nbconvert_exporter": "python",
   "pygments_lexer": "ipython3",
   "version": "3.9.7"
  },
  "orig_nbformat": 4
 },
 "nbformat": 4,
 "nbformat_minor": 2
}
