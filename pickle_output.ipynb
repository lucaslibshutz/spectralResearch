{
 "cells": [
  {
   "cell_type": "code",
   "execution_count": 1,
   "metadata": {},
   "outputs": [
    {
     "name": "stderr",
     "output_type": "stream",
     "text": [
      "C:\\Users\\lucas\\AppData\\Local\\Temp/ipykernel_30520/1951847536.py:15: SettingWithCopyWarning: \n",
      "A value is trying to be set on a copy of a slice from a DataFrame\n",
      "\n",
      "See the caveats in the documentation: https://pandas.pydata.org/pandas-docs/stable/user_guide/indexing.html#returning-a-view-versus-a-copy\n",
      "  df['spectrum'][i] = np.array([float(x) for x in df['spectrum'][i][1:-1].split(',')])\n"
     ]
    }
   ],
   "source": [
    "import numpy as np\n",
    "import pandas as pd\n",
    "\n",
    "vims_wave = np.loadtxt('vims_wave.txt')\n",
    "\n",
    "new_array = ['_0405','_0607','_0809','_1011','_1213','_1415','_1617']\n",
    "\n",
    "df_list = []\n",
    "for number in new_array:\n",
    "    exec('df'+number+' = pd.read_csv(\"total_data/data'+number+'.csv\")')\n",
    "    df_list.append(locals()['df'+number])\n",
    "\n",
    "for df in df_list:\n",
    "    for i in range(len(df['spectrum'])):\n",
    "        df['spectrum'][i] = np.array([float(x) for x in df['spectrum'][i][1:-1].split(',')])"
   ]
  },
  {
   "cell_type": "code",
   "execution_count": 7,
   "metadata": {},
   "outputs": [],
   "source": [
    "for (df,number) in zip(df_list,new_array):\n",
    "    df.to_pickle('total_data/data'+str(number)+'.pkl')"
   ]
  },
  {
   "cell_type": "code",
   "execution_count": null,
   "metadata": {},
   "outputs": [],
   "source": []
  }
 ],
 "metadata": {
  "interpreter": {
   "hash": "665796ea3363072d3a6057ac2fdbe3c4fcb0d17a4b92295d9707f78e9c46c0af"
  },
  "kernelspec": {
   "display_name": "Python 3.9.7 ('base')",
   "language": "python",
   "name": "python3"
  },
  "language_info": {
   "codemirror_mode": {
    "name": "ipython",
    "version": 3
   },
   "file_extension": ".py",
   "mimetype": "text/x-python",
   "name": "python",
   "nbconvert_exporter": "python",
   "pygments_lexer": "ipython3",
   "version": "3.9.7"
  },
  "orig_nbformat": 4
 },
 "nbformat": 4,
 "nbformat_minor": 2
}
