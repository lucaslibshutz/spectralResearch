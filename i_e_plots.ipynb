{
 "cells": [
  {
   "cell_type": "code",
   "execution_count": null,
   "metadata": {},
   "outputs": [],
   "source": [
    "import numpy as np\n",
    "import pandas as pd\n",
    "import matplotlib.pyplot as plt\n",
    "from matplotlib.pyplot import figure\n",
    "from scipy.optimize import curve_fit\n",
    "from scipy.signal import find_peaks\n",
    "from itertools import chain\n",
    "from sys import platform\n",
    "from copy import deepcopy as dc\n",
    "\n",
    "vims_wave = np.loadtxt('vims_wave.txt')\n",
    "\n",
    "new_array = ['_0405','_0607','_0809','_1011','_1213','_1415','_1617']\n",
    "\n",
    "if platform == 'darwin' or platform == 'win32':\n",
    "    for number in new_array:\n",
    "        new_string = 'df'+number+' = pd.read_pickle(\"c_data/data'+number+'.pkl\")'\n",
    "        exec(new_string)\n",
    "else:\n",
    "    df_list = []\n",
    "    for number in new_array:\n",
    "        new_string = 'df'+number+' = pd.read_csv(\"c_data/data'+number+'.csv\")'\n",
    "        exec(new_string)\n",
    "        df = 'df'+number\n",
    "        new_df = locals()[df]\n",
    "        df_list.append(new_df)\n",
    "    for df in df_list:\n",
    "        for i in range(len(df['spectrum'])):\n",
    "            df['spectrum'][i] = np.array([float(x) for x in df['spectrum'][i][1:-1].split(',')])\n",
    "\n",
    "def powerlaw(x,a,b):\n",
    "    return a*np.power(x,b)\n",
    "\n",
    "def gaussian(x,a,mu,sigma):\n",
    "    return a*np.exp(-(x-mu)**2/(2*sigma**2))\n",
    "\n",
    "def flatten(some_list,repeat): #! Fix this function\n",
    "    for i in range(repeat):\n",
    "        flat_list = []\n",
    "        for element in some_list:\n",
    "            if type(element) is list:\n",
    "                for item in element:\n",
    "                    flat_list.append(item)\n",
    "            else:\n",
    "                flat_list.append(element)\n",
    "    return flat_list\n",
    "\n",
    "band_channels = list(chain(range(29,35),range(46,60),range(78,96),range(102,106)))\n",
    "\n",
    "window = list(range(56,83))\n",
    "\n",
    "def fit_line(dataframe):\n",
    "    spectra = np.average(dataframe)\n",
    "    my_fit,_ = curve_fit(powerlaw,vims_wave[band_channels],spectra[band_channels],p0=[.15,-12])\n",
    "    final_fit = powerlaw(vims_wave,*my_fit)\n",
    "    return final_fit\n",
    "\n",
    "def custom_fit(dataframe):\n",
    "    spectra = np.average(dataframe)\n",
    "    my_fit,_ = curve_fit(powerlaw,vims_wave[band_channels],spectra[band_channels],p0=[.15,-12])\n",
    "    final_spectra = spectra-powerlaw(vims_wave,*my_fit)\n",
    "    return final_spectra\n",
    "\n",
    "def single_fit(spectrum):\n",
    "    my_fit,_ = curve_fit(powerlaw,vims_wave[band_channels],spectrum[band_channels],p0=[.15,-12])\n",
    "    final_spectrum = spectrum-powerlaw(vims_wave,*my_fit)\n",
    "\n",
    "def shift_ret(spectrum):\n",
    "    my_fit,_ = curve_fit(gaussian,vims_wave[window],spectrum[window],p0=[.05,2.05])\n",
    "    return my_fit[1]"
   ]
  },
  {
   "cell_type": "markdown",
   "metadata": {},
   "source": [
    "#### Plot incidence, emission, latitude, and longitude\n",
    "\n",
    "- Figure out how to make all scatter lists into one"
   ]
  },
  {
   "cell_type": "code",
   "execution_count": null,
   "metadata": {},
   "outputs": [],
   "source": [
    "scatter_list = []\n",
    "for number in new_array:\n",
    "    my_string = 'scatter'+number+\" = df\"+number+\"[['emission','incidence','latitude','longitude']]\"\n",
    "    exec(my_string)\n",
    "    scatter = 'scatter'+number\n",
    "    scatter_list.append(locals()[scatter])\n",
    "\n",
    "total_scatter = pd.concat(scatter_list)"
   ]
  },
  {
   "cell_type": "code",
   "execution_count": null,
   "metadata": {},
   "outputs": [],
   "source": [
    "%matplotlib inline\n",
    "fig,ax = plt.subplots(1,1,figsize=(12,8),facecolor='white')\n",
    "ax.scatter(total_scatter['latitude'],total_scatter['longitude'])\n",
    "ax.set_xlabel('Latitude')\n",
    "ax.set_ylabel('Longitude')\n",
    "ax.grid(True)\n",
    "plt.show()"
   ]
  },
  {
   "cell_type": "code",
   "execution_count": null,
   "metadata": {},
   "outputs": [],
   "source": [
    "%matplotlib inline\n",
    "fig,ax = plt.subplots(1,1,figsize=(8,8),facecolor='white')\n",
    "ax.scatter(total_scatter['incidence'],total_scatter['emission'],color='green')\n",
    "ax.set_xlabel('Incidence Angle')\n",
    "ax.set_ylabel('Emission Angle')\n",
    "ax.grid(True)\n",
    "plt.show()"
   ]
  },
  {
   "cell_type": "code",
   "execution_count": null,
   "metadata": {},
   "outputs": [],
   "source": [
    "incidence = total_scatter['incidence']\n",
    "emission = total_scatter['emission']\n",
    "airmass = (1/np.cos(incidence))+(1/np.cos(emission))"
   ]
  },
  {
   "cell_type": "code",
   "execution_count": null,
   "metadata": {},
   "outputs": [],
   "source": [
    "%matplotlib inline\n",
    "plt.figure(facecolor='white',figsize=(12,8))\n",
    "plt.plot(airmass)\n",
    "plt.grid()\n",
    "plt.show()"
   ]
  },
  {
   "cell_type": "code",
   "execution_count": null,
   "metadata": {},
   "outputs": [],
   "source": []
  }
 ],
 "metadata": {
  "interpreter": {
   "hash": "3067ead486e059ec00ffe7555bdb889e6e264a24dc711bf108106cc7baee8d5d"
  },
  "kernelspec": {
   "display_name": "Python 3.9.7 ('base')",
   "language": "python",
   "name": "python3"
  },
  "language_info": {
   "codemirror_mode": {
    "name": "ipython",
    "version": 3
   },
   "file_extension": ".py",
   "mimetype": "text/x-python",
   "name": "python",
   "nbconvert_exporter": "python",
   "pygments_lexer": "ipython3",
   "version": "3.9.7"
  },
  "orig_nbformat": 4
 },
 "nbformat": 4,
 "nbformat_minor": 2
}
