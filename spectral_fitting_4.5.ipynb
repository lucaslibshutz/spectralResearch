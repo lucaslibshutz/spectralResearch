{
 "cells": [
  {
   "cell_type": "code",
   "execution_count": 2,
   "metadata": {},
   "outputs": [],
   "source": [
    "import numpy as np\n",
    "import pandas as pd\n",
    "import matplotlib.pyplot as plt\n",
    "from matplotlib.pyplot import figure\n",
    "from scipy.optimize import curve_fit"
   ]
  },
  {
   "cell_type": "code",
   "execution_count": 3,
   "metadata": {},
   "outputs": [],
   "source": [
    "vims_wave = np.loadtxt('vims_wave.txt')\n",
    "new_array = ['_0405','_0607','_0809','_1011','_1213','_1415','_1617']\n",
    "for number in new_array:\n",
    "    new_string = 'df'+number+' = '+'pd.read_pickle(\"e_data/data'+number+'.pkl\")'\n",
    "    exec(new_string)"
   ]
  },
  {
   "cell_type": "code",
   "execution_count": 4,
   "metadata": {},
   "outputs": [],
   "source": [
    "def powerlaw(x,a,b):\n",
    "    return a*np.power(x,b)\n",
    "\n",
    "def gaussian(x,a,mu,sigma):\n",
    "    return a*np.exp(-(x-mu)**2/(2*sigma**2))\n",
    "\n",
    "band_channels = [29,30,31,32,33,34,46,47,48,49,50,51,52,53,54,55,56,57,58,59,78,79,80,81,82,83,84,85,86,87,88,89,90,91,92,93,94,95,102,103,104,105]\n",
    "\n",
    "def fit_line(dataframe):\n",
    "    spectra = np.average(dataframe)\n",
    "    my_fit,_ = curve_fit(powerlaw,vims_wave[band_channels],spectra[band_channels],p0=[.15,-12])\n",
    "    final_fit = powerlaw(vims_wave,*my_fit)\n",
    "    return final_fit\n",
    "\n",
    "def custom_fit(dataframe):\n",
    "    spectra = np.average(dataframe)\n",
    "    my_fit,_ = curve_fit(powerlaw,vims_wave[band_channels],spectra[band_channels],p0=[.15,-12])\n",
    "    final_spectra = spectra-powerlaw(vims_wave,*my_fit)\n",
    "    return final_spectra\n"
   ]
  },
  {
   "cell_type": "code",
   "execution_count": 10,
   "metadata": {},
   "outputs": [],
   "source": [
    "spectra_list = []\n",
    "for number in new_array:\n",
    "    new_string = 'spectra'+number+' = '+'custom_fit(df'+number+'[\"spectrum\"])'\n",
    "    exec(new_string)\n",
    "    spectrum = 'spectra'+number\n",
    "    new_spectrum = locals()[spectrum]\n",
    "    spectra_list.append(new_spectrum)\n",
    "\n",
    "time_list = []\n",
    "for number in new_array:\n",
    "    new_string = 'time'+number+' = '+'df'+number+'[\"ettime\"]'\n",
    "    exec(new_string)\n",
    "    time = 'time'+number\n",
    "    new_time = locals()[time]\n",
    "    time_list.append(new_time)\n",
    "\n",
    "spec_list = []\n",
    "for number in new_array:\n",
    "    new_string = 'spec'+number+' = '+'df'+number+'[\"spectrum\"]'\n",
    "    exec(new_string)\n",
    "    spec = 'spec'+number\n",
    "    new_spec = locals()[spec]\n",
    "    spec_list.append(new_spec)"
   ]
  },
  {
   "cell_type": "code",
   "execution_count": 11,
   "metadata": {},
   "outputs": [
    {
     "name": "stdout",
     "output_type": "stream",
     "text": [
      "2507\n",
      "3424\n",
      "749\n",
      "1487\n",
      "723\n",
      "2490\n",
      "1275\n"
     ]
    }
   ],
   "source": [
    "for part in time_list:\n",
    "    print(part.size)"
   ]
  },
  {
   "cell_type": "markdown",
   "metadata": {},
   "source": [
    "### Fitting 2004-2005 Spectra"
   ]
  },
  {
   "cell_type": "code",
   "execution_count": 15,
   "metadata": {},
   "outputs": [
    {
     "data": {
      "text/plain": [
       "0       [0.0627468, 0.0772501, 0.115962, 0.158278, 0.1...\n",
       "1       [0.0649121, 0.0794369, 0.119561, 0.161287, 0.1...\n",
       "2       [0.0686598, 0.0839468, 0.126895, 0.169983, 0.1...\n",
       "3       [0.0683702, 0.0855701, 0.127764, 0.171474, 0.1...\n",
       "4       [0.0649137, 0.0816108, 0.120783, 0.164939, 0.1...\n",
       "                              ...                        \n",
       "2502    [0.066277, 0.0830038, 0.124997, 0.170421, 0.12...\n",
       "2503    [0.0661068, 0.0787953, 0.120702, 0.169602, 0.1...\n",
       "2504    [0.0768355, 0.0907899, 0.137931, 0.188302, 0.1...\n",
       "2505    [0.076841, 0.0912231, 0.138605, 0.189246, 0.14...\n",
       "2506    [0.0665543, 0.077868, 0.119514, 0.17071, 0.130...\n",
       "Name: spectrum, Length: 2507, dtype: object"
      ]
     },
     "execution_count": 15,
     "metadata": {},
     "output_type": "execute_result"
    }
   ],
   "source": [
    "spec_0405"
   ]
  },
  {
   "cell_type": "code",
   "execution_count": null,
   "metadata": {},
   "outputs": [],
   "source": []
  }
 ],
 "metadata": {
  "interpreter": {
   "hash": "3067ead486e059ec00ffe7555bdb889e6e264a24dc711bf108106cc7baee8d5d"
  },
  "kernelspec": {
   "display_name": "Python 3.9.7 ('base')",
   "language": "python",
   "name": "python3"
  },
  "language_info": {
   "codemirror_mode": {
    "name": "ipython",
    "version": 3
   },
   "file_extension": ".py",
   "mimetype": "text/x-python",
   "name": "python",
   "nbconvert_exporter": "python",
   "pygments_lexer": "ipython3",
   "version": "3.9.7"
  },
  "orig_nbformat": 4
 },
 "nbformat": 4,
 "nbformat_minor": 2
}
