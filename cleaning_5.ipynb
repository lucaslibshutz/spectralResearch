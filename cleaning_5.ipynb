{
 "cells": [
  {
   "cell_type": "markdown",
   "metadata": {},
   "source": [
    "### **<u> Preliminary Cells </u>**"
   ]
  },
  {
   "cell_type": "code",
   "execution_count": 1,
   "metadata": {},
   "outputs": [],
   "source": [
    "import numpy as np\n",
    "import pandas as pd\n",
    "import matplotlib.pyplot as plt\n",
    "from matplotlib.pyplot import figure\n",
    "from scipy.optimize import curve_fit\n",
    "from scipy.signal import find_peaks\n",
    "from itertools import chain\n",
    "from sys import platform\n",
    "from copy import deepcopy as dc\n",
    "\n",
    "vims_wave = np.loadtxt('vims_wave.txt')\n",
    "\n",
    "new_array = ['_0405','_0607','_0809','_1011','_1213','_1415','_1617']\n",
    "if platform == 'darwin' or platform == 'win32':\n",
    "    for number in new_array:\n",
    "        new_string = 'df'+number+' = pd.read_pickle(\"e_data/data'+number+'.pkl\")'\n",
    "        exec(new_string)\n",
    "else:\n",
    "    df_list = []\n",
    "    for number in new_array:\n",
    "        new_string = 'df'+number+' = pd.read_csv(\"e_data/data'+number+'.csv\")'\n",
    "        exec(new_string)\n",
    "        df = 'df'+number\n",
    "        new_df = locals()[df]\n",
    "        df_list.append(new_df)\n",
    "    for df in df_list:\n",
    "        for i in range(len(df['spectrum'])):\n",
    "            df['spectrum'][i] = np.array([float(x) for x in df['spectrum'][i][1:-1].split(',')])\n",
    "\n",
    "def powerlaw(x,a,b):\n",
    "    return a*np.power(x,b)\n",
    "\n",
    "def gaussian(x,a,mu,sigma):\n",
    "    return a*np.exp(-(x-mu)**2/(2*sigma**2))\n",
    "\n",
    "def flatten(some_list):\n",
    "    flat_list = []\n",
    "    for element in some_list:\n",
    "        if type(element) is list:\n",
    "            for item in element:\n",
    "                flat_list.append(item)\n",
    "        else:\n",
    "            flat_list.append(item)\n",
    "    return flat_list\n",
    "            \n",
    "band_channels = list(chain(range(29,35),range(46,60),range(78,96),range(102,106)))\n",
    "\n",
    "window = list(range(56,83))\n",
    "\n",
    "def fit_line(dataframe):\n",
    "    spectra = np.average(dataframe)\n",
    "    my_fit,_ = curve_fit(powerlaw,vims_wave[band_channels],spectra[band_channels],p0=[.15,-12])\n",
    "    final_fit = powerlaw(vims_wave,*my_fit)\n",
    "    return final_fit\n",
    "\n",
    "def custom_fit(dataframe):\n",
    "    spectra = np.average(dataframe)\n",
    "    my_fit,_ = curve_fit(powerlaw,vims_wave[band_channels],spectra[band_channels],p0=[.15,-12])\n",
    "    final_spectra = spectra-powerlaw(vims_wave,*my_fit)\n",
    "    return final_spectra\n",
    "\n",
    "def single_fit(spectrum):\n",
    "    my_fit,_ = curve_fit(powerlaw,vims_wave[band_channels],spectrum[band_channels],p0=[.15,-12])\n",
    "    final_spectrum = spectrum-powerlaw(vims_wave,*my_fit)\n",
    "    return final_spectrum\n",
    "\n",
    "def shift_ret(spectrum):\n",
    "    my_fit,_ = curve_fit(gaussian,vims_wave[window],spectrum[window],p0=[.05,2,.05])\n",
    "    return my_fit[1]"
   ]
  },
  {
   "cell_type": "code",
   "execution_count": 2,
   "metadata": {},
   "outputs": [
    {
     "name": "stdout",
     "output_type": "stream",
     "text": [
      "List 1: (12655, 256)\n",
      "List 2 (Copy): (12655, 256)\n"
     ]
    }
   ],
   "source": [
    "spec_list = []\n",
    "for number in new_array:\n",
    "    my_string = 'spec'+number+' = df'+number+\"['spectrum']\"\n",
    "    exec(my_string)\n",
    "    spec = 'spec'+number\n",
    "    spec_list.append(locals()[spec])\n",
    "\n",
    "time_list_i = []\n",
    "for number in new_array:\n",
    "    my_string = 'ettime'+number+' = df'+number+\"['ettime']\"\n",
    "    exec(my_string)\n",
    "    time = 'ettime'+number\n",
    "    time_list_i.append(locals()[time])\n",
    "\n",
    "time_list_f = []\n",
    "for df in time_list_i:\n",
    "    for time in df:\n",
    "        time_list_f.append(time)\n",
    "\n",
    "total_spectrum = []\n",
    "for spec in spec_list:\n",
    "    for spectrum in spec:\n",
    "        total_spectrum.append(spectrum)\n",
    "\n",
    "total_spectrum = np.asarray(total_spectrum)\n",
    "total_spectrum_2 = dc(total_spectrum)\n",
    "print('List 1: '+str(np.shape(total_spectrum)))\n",
    "print('List 2 (Copy): '+str(np.shape(total_spectrum_2))) # Confirms that DeepCopy works correctly"
   ]
  },
  {
   "cell_type": "markdown",
   "metadata": {},
   "source": [
    "###  **Prior to first median filter**"
   ]
  },
  {
   "cell_type": "code",
   "execution_count": 3,
   "metadata": {},
   "outputs": [
    {
     "name": "stdout",
     "output_type": "stream",
     "text": [
      "(11, 256)\n",
      "(12644, 256)\n"
     ]
    }
   ],
   "source": [
    "bad_indices_1 = []\n",
    "for index,spectrum in enumerate(total_spectrum_2):\n",
    "    peaks, _ = find_peaks(np.abs(spectrum),height=0.5)\n",
    "    if len(peaks) > 0:\n",
    "        bad_indices_1.append(index)\n",
    "\n",
    "bad_spectra_1 = total_spectrum_2[bad_indices_1]\n",
    "good_spectra_1 = []\n",
    "for index,spectrum in enumerate(total_spectrum_2):\n",
    "    if index not in bad_indices_1:\n",
    "        good_spectra_1.append(spectrum)\n",
    "\n",
    "bad_spectra_1 = np.asarray(bad_spectra_1)\n",
    "good_spectra_1 = np.asarray(good_spectra_1)\n",
    "\n",
    "print(np.shape(bad_spectra_1))\n",
    "print(np.shape(good_spectra_1))"
   ]
  },
  {
   "cell_type": "code",
   "execution_count": 4,
   "metadata": {},
   "outputs": [
    {
     "data": {
      "image/png": "[encoded data removed]",
      "text/plain": [
       "<Figure size 432x288 with 1 Axes>"
      ]
     },
     "metadata": {},
     "output_type": "display_data"
    }
   ],
   "source": [
    "%matplotlib inline\n",
    "plt.figure(facecolor='white')\n",
    "for spectrum in bad_spectra_1:\n",
    "    plt.plot(vims_wave,spectrum,color='red')\n",
    "for spectrum in good_spectra_1:\n",
    "    plt.plot(vims_wave,spectrum,color='blue')\n",
    "plt.grid()\n",
    "plt.show()"
   ]
  },
  {
   "cell_type": "code",
   "execution_count": 11,
   "metadata": {},
   "outputs": [
    {
     "name": "stdout",
     "output_type": "stream",
     "text": [
      "2231 0.784513\n"
     ]
    }
   ],
   "source": [
    "for index,spectrum in enumerate(good_spectra_1):\n",
    "    intensity = spectrum[255]\n",
    "    if intensity > 0.5:\n",
    "        print(index,intensity)"
   ]
  },
  {
   "cell_type": "markdown",
   "metadata": {},
   "source": [
    "### **<u>Median filter</u>**"
   ]
  },
  {
   "cell_type": "code",
   "execution_count": 5,
   "metadata": {},
   "outputs": [],
   "source": [
    "for (i,j) in zip(range(0,256),range(1,257)):\n",
    "    median = np.median(total_spectrum[:,i:j])\n",
    "    vals = total_spectrum_2[:,i:j]\n",
    "    std = np.std(total_spectrum[:,i:j])\n",
    "    ind = np.where(np.abs(vals-median)>3*std) # 3 STD as benchmark\n",
    "    vals[ind] = median"
   ]
  },
  {
   "cell_type": "markdown",
   "metadata": {},
   "source": [
    "### **<u>Good and bad spectra post median filter</u>**"
   ]
  },
  {
   "cell_type": "code",
   "execution_count": 6,
   "metadata": {},
   "outputs": [
    {
     "name": "stdout",
     "output_type": "stream",
     "text": [
      "(2466, 256)\n",
      "(10189, 256)\n"
     ]
    }
   ],
   "source": [
    "bad_indices_2 = []\n",
    "for index,spectrum in enumerate(total_spectrum_2):\n",
    "    peaks, _ = find_peaks(np.abs(spectrum[158:257]),height=.04)\n",
    "    peaks = peaks+158\n",
    "    if len(peaks) > 0:\n",
    "        bad_indices_2.append(index)\n",
    "\n",
    "bad_spectra_2 = total_spectrum_2[bad_indices_2]\n",
    "good_spectra_2 = []\n",
    "for index,spectrum in enumerate(total_spectrum_2):\n",
    "    if index not in bad_indices_2:\n",
    "        good_spectra_2.append(spectrum)\n",
    "\n",
    "bad_spectra_2 = np.asarray(bad_spectra_2)\n",
    "good_spectra_2 = np.asarray(good_spectra_2)\n",
    "\n",
    "print(np.shape(bad_spectra_2))\n",
    "print(np.shape(good_spectra_2))"
   ]
  },
  {
   "cell_type": "code",
   "execution_count": 13,
   "metadata": {},
   "outputs": [
    {
     "data": {
      "image/png": "[encoded data removed]",
      "text/plain": [
       "<Figure size 720x576 with 4 Axes>"
      ]
     },
     "metadata": {},
     "output_type": "display_data"
    }
   ],
   "source": [
    "%matplotlib inline\n",
    "fig,axs = plt.subplots(2,2,figsize=(10,8),facecolor='white')\n",
    "for spectrum in bad_spectra_1:\n",
    "    axs[0,0].plot(vims_wave,spectrum,color='red')\n",
    "axs[0,0].grid\n",
    "for spectrum in bad_spectra_2:\n",
    "    axs[0,1].plot(vims_wave,spectrum,color='red')\n",
    "axs[0,1].grid()\n",
    "for spectrum in good_spectra_1:\n",
    "    axs[1,0].plot(vims_wave,spectrum,color='blue')\n",
    "axs[1,0].grid()\n",
    "for spectrum in good_spectra_2:\n",
    "    axs[1,1].plot(vims_wave,spectrum,color='blue')\n",
    "axs[1,1].grid()\n",
    "\n",
    "plt.show()"
   ]
  },
  {
   "cell_type": "code",
   "execution_count": null,
   "metadata": {},
   "outputs": [],
   "source": [
    "%matplotlib inline\n",
    "plt.figure(facecolor='black',figsize=(12,8))\n",
    "plt.title('Unfiltered Spectra',color='white')\n",
    "for spectrum in total_spectrum_2[::3]:\n",
    "    plt.plot(vims_wave,spectrum)\n",
    "plt.axhline(y=.03,color='r',linestyle='--')\n",
    "plt.axvline(x=vims_wave[128],color='g',linestyle='--')\n",
    "plt.axvline(x=vims_wave[174],color='g',linestyle='--')\n",
    "plt.xticks(color='white')\n",
    "plt.xlabel('Wavelength (µm)',color='white')\n",
    "# plt.xlim([vims_wave[160],vims_wave[185]])\n",
    "plt.yticks(color='white')\n",
    "plt.ylabel('I/F',color='white')\n",
    "plt.grid()\n",
    "plt.show()"
   ]
  },
  {
   "cell_type": "markdown",
   "metadata": {},
   "source": [
    "### Objective: Filter spectra that are ONLY included in bad_spectra indices list"
   ]
  },
  {
   "cell_type": "code",
   "execution_count": null,
   "metadata": {},
   "outputs": [],
   "source": [
    "bad_indices = []\n",
    "for index,spectrum in enumerate(total_spectrum_2):\n",
    "    peaks, _ = find_peaks(np.abs(spectrum[158:257]),height=.04)\n",
    "    peaks = peaks+158\n",
    "    if len(peaks) > 0:\n",
    "        bad_indices.append(index)\n",
    "\n",
    "print(np.shape(bad_indices))"
   ]
  },
  {
   "cell_type": "code",
   "execution_count": null,
   "metadata": {},
   "outputs": [],
   "source": [
    "bad_spectra = total_spectrum_2[bad_indices]\n",
    "good_spectra = []\n",
    "for index,spectrum in enumerate(total_spectrum_2):\n",
    "    if index not in bad_indices:\n",
    "        good_spectra.append(spectrum)\n",
    "\n",
    "bad_spectra = np.asarray(bad_spectra)\n",
    "good_spectra = np.asarray(good_spectra)\n",
    "\n",
    "print(np.shape(bad_spectra))\n",
    "print(np.shape(good_spectra))"
   ]
  },
  {
   "cell_type": "code",
   "execution_count": null,
   "metadata": {},
   "outputs": [],
   "source": [
    "%matplotlib inline\n",
    "plt.figure(facecolor='white')\n",
    "for spectrum in bad_spectra:\n",
    "    plt.plot(vims_wave[158:256],spectrum[158:256],color='red')\n",
    "for spectrum in good_spectra:\n",
    "    plt.plot(vims_wave[158:256],spectrum[158:256],color='blue')\n",
    "plt.grid()\n",
    "plt.show()"
   ]
  },
  {
   "cell_type": "code",
   "execution_count": null,
   "metadata": {},
   "outputs": [],
   "source": [
    "for (i,j) in zip(range(235,256),range(236,257)):\n",
    "    median = np.median(total_spectrum_2[:,i:j])\n",
    "    if np.abs(.04-median) < .019:\n",
    "        print((median,i,j))"
   ]
  },
  {
   "cell_type": "code",
   "execution_count": null,
   "metadata": {},
   "outputs": [],
   "source": []
  }
 ],
 "metadata": {
  "interpreter": {
   "hash": "3067ead486e059ec00ffe7555bdb889e6e264a24dc711bf108106cc7baee8d5d"
  },
  "kernelspec": {
   "display_name": "Python 3.9.7 ('base')",
   "language": "python",
   "name": "python3"
  },
  "language_info": {
   "codemirror_mode": {
    "name": "ipython",
    "version": 3
   },
   "file_extension": ".py",
   "mimetype": "text/x-python",
   "name": "python",
   "nbconvert_exporter": "python",
   "pygments_lexer": "ipython3",
   "version": "3.9.7"
  },
  "orig_nbformat": 4
 },
 "nbformat": 4,
 "nbformat_minor": 2
}
