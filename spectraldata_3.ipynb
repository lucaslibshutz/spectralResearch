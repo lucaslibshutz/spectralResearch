{
 "cells": [
  {
   "cell_type": "code",
   "execution_count": 1,
   "metadata": {},
   "outputs": [],
   "source": [
    "import numpy as np\n",
    "import matplotlib.pyplot as plt\n",
    "from matplotlib.pyplot import figure\n",
    "import pandas as pd"
   ]
  },
  {
   "cell_type": "code",
   "execution_count": 2,
   "metadata": {},
   "outputs": [],
   "source": [
    "%%capture --no-display\n",
    "df_0405 = pd.read_csv('boxC/boxC_0405_r-fixed.csv')\n",
    "df_0607 = pd.read_csv('boxA/boxA_0607_refined.csv')\n",
    "df_0809 = pd.read_csv('boxD/boxD_0809_fixed_2.csv')\n",
    "df_1011 = pd.read_csv('boxA/boxA_1011.csv')\n",
    "df_1213 = pd.read_csv('boxD/boxD_1213.csv')\n",
    "df_1415 = pd.read_csv('boxE/boxE_1415.csv')\n",
    "df_1617 = pd.read_csv('boxC/boxC_1617.csv')\n",
    "\n",
    "vims_wave = np.loadtxt('vims_wave.txt')\n",
    "\n",
    "for df in (df_0405,df_0607,df_0809,df_1011,df_1213,df_1415,df_1617):\n",
    "    for i in range(len(df['spectrum'])):\n",
    "        df['spectrum'][i] = np.array([float(x) for x in df['spectrum'][i][1:-1].split(',')])\n",
    "\n",
    "\n",
    "spectra_0405 = np.average(np.asarray(df_0405['spectrum']))\n",
    "spectra_0607 = np.average(np.asarray(df_0607['spectrum']))\n",
    "spectra_0809 = np.average(np.asarray(df_0809['spectrum']))\n",
    "spectra_1011 = np.average(np.asarray(df_1011['spectrum']))\n",
    "spectra_1213 = np.average(np.asarray(df_1213['spectrum']))\n",
    "spectra_1415 = np.average(np.asarray(df_1415['spectrum']))\n",
    "spectra_1617 = np.average(np.asarray(df_1617['spectrum']))\n",
    "\n",
    "spectra_list = [spectra_0405,spectra_0607,spectra_0809,spectra_1011,spectra_1213,spectra_1415,spectra_1617]"
   ]
  },
  {
   "cell_type": "code",
   "execution_count": 4,
   "metadata": {},
   "outputs": [],
   "source": [
    "%matplotlib qt5\n",
    "for spectra in spectra_list:\n",
    "    plt.plot(vims_wave,spectra)\n",
    "plt.xlabel('Wavelength')\n",
    "plt.ylabel('I/F')\n",
    "plt.show()"
   ]
  }
 ],
 "metadata": {
  "interpreter": {
   "hash": "8003219c8c57211ee3be347d121ba14ebad7276cdae3d94be72d9e4e17f9edd5"
  },
  "kernelspec": {
   "display_name": "Python 3.9.7 ('base')",
   "language": "python",
   "name": "python3"
  },
  "language_info": {
   "codemirror_mode": {
    "name": "ipython",
    "version": 3
   },
   "file_extension": ".py",
   "mimetype": "text/x-python",
   "name": "python",
   "nbconvert_exporter": "python",
   "pygments_lexer": "ipython3",
   "version": "3.9.7"
  },
  "orig_nbformat": 4
 },
 "nbformat": 4,
 "nbformat_minor": 2
}
