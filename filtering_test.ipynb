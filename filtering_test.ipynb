{
 "cells": [
  {
   "cell_type": "code",
   "execution_count": 1,
   "metadata": {},
   "outputs": [],
   "source": [
    "import numpy as np\n",
    "import pandas as pd\n",
    "import matplotlib.pyplot as plt\n",
    "from matplotlib.pyplot import figure\n",
    "from scipy.optimize import curve_fit\n",
    "from itertools import chain\n",
    "\n",
    "vims_wave = np.loadtxt('vims_wave.txt')\n",
    "new_array = ['_0405','_0607','_0809','_1011','_1213','_1415','_1617']\n",
    "for number in new_array:\n",
    "    new_string = 'df'+number+' = '+'pd.read_pickle(\"e_data/data'+number+'.pkl\")'\n",
    "    exec(new_string)\n",
    "\n",
    "#Functions for later\n",
    "\n",
    "def powerlaw(x,a,b):\n",
    "    return a*np.power(x,b)\n",
    "\n",
    "def gaussian(x,a,mu,sigma):\n",
    "    return a*np.exp(-(x-mu)**2/(2*sigma**2))\n",
    "\n",
    "def flatten(some_list):\n",
    "    flat_list = []\n",
    "    for element in some_list:\n",
    "        if type(element) is list:\n",
    "            for item in element:\n",
    "                flat_list.append(item)\n",
    "        else:\n",
    "            flat_list.append(element)\n",
    "    return flat_list\n",
    "\n",
    "band_channels = list(chain(range(29,35),range(46,60),range(78,96),range(102,106)))\n",
    "\n",
    "window = list(range(56,83))\n",
    "\n",
    "def fit_line(dataframe):\n",
    "    spectra = np.average(dataframe)\n",
    "    my_fit,_ = curve_fit(powerlaw,vims_wave[band_channels],spectra[band_channels],p0=[.15,-12])\n",
    "    final_fit = powerlaw(vims_wave,*my_fit)\n",
    "    return final_fit\n",
    "\n",
    "def custom_fit(dataframe):\n",
    "    spectra = np.average(dataframe)\n",
    "    my_fit,_ = curve_fit(powerlaw,vims_wave[band_channels],spectra[band_channels],p0=[.15,-12])\n",
    "    final_spectra = spectra-powerlaw(vims_wave,*my_fit)\n",
    "    return final_spectra\n",
    "\n",
    "def single_fit(spectrum):\n",
    "    my_fit,_ = curve_fit(powerlaw,vims_wave[band_channels],spectrum[band_channels],p0=[.15,-12])\n",
    "    final_spectrum = spectrum-powerlaw(vims_wave,*my_fit)\n",
    "    return final_spectrum\n",
    "\n",
    "def shift_ret(spectrum):\n",
    "    my_fit,_ = curve_fit(gaussian,vims_wave[window],spectrum[window],p0=[.05,2,.05])\n",
    "    return my_fit[1]"
   ]
  },
  {
   "cell_type": "code",
   "execution_count": 2,
   "metadata": {},
   "outputs": [],
   "source": [
    "spec_list = []\n",
    "for number in new_array:\n",
    "    my_string = 'spec'+number+' = df'+number+\"['spectrum']\"\n",
    "    exec(my_string)\n",
    "    spec = 'spec'+number\n",
    "    spec_list.append(locals()[spec])\n",
    "\n",
    "time_list = []\n",
    "for number in new_array:\n",
    "    my_string = 'ettime'+number+' = df'+number+\"['ettime']\"\n",
    "    exec(my_string)\n",
    "    time = 'ettime'+number\n",
    "    time_list.append(locals()[time])"
   ]
  },
  {
   "cell_type": "code",
   "execution_count": 3,
   "metadata": {},
   "outputs": [
    {
     "name": "stdout",
     "output_type": "stream",
     "text": [
      "(11779, 256)\n",
      "(11779,)\n"
     ]
    }
   ],
   "source": [
    "#Define all fit spectra under one single list (specific year groups will be added later)\n",
    "spectrum_filter_1 = []\n",
    "mean_list = []\n",
    "ettime_filter_1 = []\n",
    "for (df,tf) in zip(spec_list,time_list):\n",
    "    for (spectrum,time) in zip(df,tf):\n",
    "        fit_spec = single_fit(spectrum)\n",
    "        std = np.std(fit_spec[150:200])\n",
    "        ind = np.where((fit_spec>=0.17)|(fit_spec<=-0.03))\n",
    "\n",
    "        if len(ind) ==0 or std<.005:\n",
    "            spectrum_filter_1.append(fit_spec)\n",
    "            mean_list.append(shift_ret(fit_spec))\n",
    "            ettime_filter_1.append(time)\n",
    "\n",
    "#Convert all list objects within total_list\n",
    "# spectrum_array = np.asarray(spectrum_filter_1)\n",
    "# time_array = np.asarray(ettime_filter_1)\n",
    "print(np.shape(spectrum_filter_1))\n",
    "print(np.shape(ettime_filter_1)) # Grouped by years"
   ]
  },
  {
   "cell_type": "code",
   "execution_count": 4,
   "metadata": {},
   "outputs": [
    {
     "name": "stdout",
     "output_type": "stream",
     "text": [
      "(656, 256)\n",
      "(656,)\n"
     ]
    }
   ],
   "source": [
    "spectrum_filter_2 = []\n",
    "ettime_filter_2 = []\n",
    "for (spectrum,time) in zip(spectrum_filter_1,ettime_filter_1):\n",
    "    spec = spectrum\n",
    "    std = np.std(spec[230:256])\n",
    "    ind = np.where((spec[230:256]>=.05)|(spec[230:256]<=-.005))\n",
    "\n",
    "    if len(ind) ==0 or std<.005:\n",
    "        spectrum_filter_2.append(spec)\n",
    "        ettime_filter_2.append(time)\n",
    "\n",
    "print(np.shape(spectrum_filter_2))\n",
    "print(np.shape(ettime_filter_2))"
   ]
  },
  {
   "cell_type": "code",
   "execution_count": null,
   "metadata": {},
   "outputs": [
    {
     "data": {
      "text/plain": [
       "array([4.7029 , 4.71956, 4.73706, 4.75351, 4.77031, 4.78673, 4.80349,\n",
       "       4.81952, 4.83577, 4.85292, 4.8694 , 4.88553, 4.90265, 4.91983,\n",
       "       4.93685, 4.95389, 4.97178, 4.98896, 5.00576, 5.0224 , 5.04078,\n",
       "       5.05734, 5.07402, 5.09106, 5.1068 , 5.1225 ])"
      ]
     },
     "execution_count": 5,
     "metadata": {},
     "output_type": "execute_result"
    }
   ],
   "source": [
    "vims_wave[230:256]"
   ]
  },
  {
   "cell_type": "code",
   "execution_count": null,
   "metadata": {},
   "outputs": [],
   "source": []
  }
 ],
 "metadata": {
  "interpreter": {
   "hash": "3067ead486e059ec00ffe7555bdb889e6e264a24dc711bf108106cc7baee8d5d"
  },
  "kernelspec": {
   "display_name": "Python 3.9.7 ('base')",
   "language": "python",
   "name": "python3"
  },
  "language_info": {
   "codemirror_mode": {
    "name": "ipython",
    "version": 3
   },
   "file_extension": ".py",
   "mimetype": "text/x-python",
   "name": "python",
   "nbconvert_exporter": "python",
   "pygments_lexer": "ipython3",
   "version": "3.9.7"
  },
  "orig_nbformat": 4
 },
 "nbformat": 4,
 "nbformat_minor": 2
}
